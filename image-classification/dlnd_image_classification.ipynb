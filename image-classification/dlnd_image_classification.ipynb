{
 "cells": [
  {
   "cell_type": "markdown",
   "metadata": {
    "collapsed": true,
    "deletable": true,
    "editable": true
   },
   "source": [
    "# Image Classification\n",
    "In this project, you'll classify images from the [CIFAR-10 dataset](https://www.cs.toronto.edu/~kriz/cifar.html).  The dataset consists of airplanes, dogs, cats, and other objects. You'll preprocess the images, then train a convolutional neural network on all the samples. The images need to be normalized and the labels need to be one-hot encoded.  You'll get to apply what you learned and build a convolutional, max pooling, dropout, and fully connected layers.  At the end, you'll get to see your neural network's predictions on the sample images.\n",
    "## Get the Data\n",
    "Run the following cell to download the [CIFAR-10 dataset for python](https://www.cs.toronto.edu/~kriz/cifar-10-python.tar.gz)."
   ]
  },
  {
   "cell_type": "code",
   "execution_count": 28,
   "metadata": {
    "collapsed": false,
    "deletable": true,
    "editable": true
   },
   "outputs": [
    {
     "name": "stdout",
     "output_type": "stream",
     "text": [
      "All files found!\n"
     ]
    }
   ],
   "source": [
    "\"\"\"\n",
    "DON'T MODIFY ANYTHING IN THIS CELL THAT IS BELOW THIS LINE\n",
    "\"\"\"\n",
    "from urllib.request import urlretrieve\n",
    "from os.path import isfile, isdir\n",
    "from tqdm import tqdm\n",
    "import problem_unittests as tests\n",
    "import tarfile\n",
    "\n",
    "cifar10_dataset_folder_path = 'cifar-10-batches-py'\n",
    "\n",
    "# Use Floyd's cifar-10 dataset if present\n",
    "floyd_cifar10_location = '/input/cifar-10/python.tar.gz'\n",
    "if isfile(floyd_cifar10_location):\n",
    "    tar_gz_path = floyd_cifar10_location\n",
    "else:\n",
    "    tar_gz_path = 'cifar-10-python.tar.gz'\n",
    "\n",
    "class DLProgress(tqdm):\n",
    "    last_block = 0\n",
    "\n",
    "    def hook(self, block_num=1, block_size=1, total_size=None):\n",
    "        self.total = total_size\n",
    "        self.update((block_num - self.last_block) * block_size)\n",
    "        self.last_block = block_num\n",
    "\n",
    "if not isfile(tar_gz_path):\n",
    "    with DLProgress(unit='B', unit_scale=True, miniters=1, desc='CIFAR-10 Dataset') as pbar:\n",
    "        urlretrieve(\n",
    "            'https://www.cs.toronto.edu/~kriz/cifar-10-python.tar.gz',\n",
    "            tar_gz_path,\n",
    "            pbar.hook)\n",
    "\n",
    "if not isdir(cifar10_dataset_folder_path):\n",
    "    with tarfile.open(tar_gz_path) as tar:\n",
    "        tar.extractall()\n",
    "        tar.close()\n",
    "\n",
    "\n",
    "tests.test_folder_path(cifar10_dataset_folder_path)"
   ]
  },
  {
   "cell_type": "markdown",
   "metadata": {
    "deletable": true,
    "editable": true
   },
   "source": [
    "## Explore the Data\n",
    "The dataset is broken into batches to prevent your machine from running out of memory.  The CIFAR-10 dataset consists of 5 batches, named `data_batch_1`, `data_batch_2`, etc.. Each batch contains the labels and images that are one of the following:\n",
    "* airplane\n",
    "* automobile\n",
    "* bird\n",
    "* cat\n",
    "* deer\n",
    "* dog\n",
    "* frog\n",
    "* horse\n",
    "* ship\n",
    "* truck\n",
    "\n",
    "Understanding a dataset is part of making predictions on the data.  Play around with the code cell below by changing the `batch_id` and `sample_id`. The `batch_id` is the id for a batch (1-5). The `sample_id` is the id for a image and label pair in the batch.\n",
    "\n",
    "Ask yourself \"What are all possible labels?\", \"What is the range of values for the image data?\", \"Are the labels in order or random?\".  Answers to questions like these will help you preprocess the data and end up with better predictions."
   ]
  },
  {
   "cell_type": "code",
   "execution_count": 29,
   "metadata": {
    "collapsed": false,
    "deletable": true,
    "editable": true
   },
   "outputs": [
    {
     "name": "stdout",
     "output_type": "stream",
     "text": [
      "\n",
      "Stats of batch 1:\n",
      "Samples: 10000\n",
      "Label Counts: {0: 1005, 1: 974, 2: 1032, 3: 1016, 4: 999, 5: 937, 6: 1030, 7: 1001, 8: 1025, 9: 981}\n",
      "First 20 Labels: [6, 9, 9, 4, 1, 1, 2, 7, 8, 3, 4, 7, 7, 2, 9, 9, 9, 3, 2, 6]\n",
      "\n",
      "Example of Image 5:\n",
      "Image - Min Value: 0 Max Value: 252\n",
      "Image - Shape: (32, 32, 3)\n",
      "Label - Label Id: 1 Name: automobile\n"
     ]
    },
    {
     "data": {
      "image/png": "[encoded data removed]",
      "text/plain": [
       "<matplotlib.figure.Figure at 0x7fdf0eca0278>"
      ]
     },
     "metadata": {
      "image/png": {
       "height": 250,
       "width": 253
      }
     },
     "output_type": "display_data"
    }
   ],
   "source": [
    "%matplotlib inline\n",
    "%config InlineBackend.figure_format = 'retina'\n",
    "\n",
    "import helper\n",
    "import numpy as np\n",
    "\n",
    "# Explore the dataset\n",
    "batch_id = 1\n",
    "sample_id = 5\n",
    "helper.display_stats(cifar10_dataset_folder_path, batch_id, sample_id)"
   ]
  },
  {
   "cell_type": "markdown",
   "metadata": {
    "deletable": true,
    "editable": true
   },
   "source": [
    "## Implement Preprocess Functions\n",
    "### Normalize\n",
    "In the cell below, implement the `normalize` function to take in image data, `x`, and return it as a normalized Numpy array. The values should be in the range of 0 to 1, inclusive.  The return object should be the same shape as `x`."
   ]
  },
  {
   "cell_type": "code",
   "execution_count": 30,
   "metadata": {
    "collapsed": false,
    "deletable": true,
    "editable": true
   },
   "outputs": [
    {
     "name": "stdout",
     "output_type": "stream",
     "text": [
      "Tests Passed\n"
     ]
    }
   ],
   "source": [
    "def normalize(x):\n",
    "    \"\"\"\n",
    "    Normalize a list of sample image data in the range of 0 to 1\n",
    "    : x: List of image data.  The image shape is (32, 32, 3)\n",
    "    : return: Numpy array of normalize data\n",
    "    \"\"\"\n",
    "    # TODO: Implement Function\n",
    "    return np.array(x, dtype=\"float\") / 255.0\n",
    "\n",
    "\n",
    "\"\"\"\n",
    "DON'T MODIFY ANYTHING IN THIS CELL THAT IS BELOW THIS LINE\n",
    "\"\"\"\n",
    "tests.test_normalize(normalize)"
   ]
  },
  {
   "cell_type": "markdown",
   "metadata": {
    "deletable": true,
    "editable": true
   },
   "source": [
    "### One-hot encode\n",
    "Just like the previous code cell, you'll be implementing a function for preprocessing.  This time, you'll implement the `one_hot_encode` function. The input, `x`, are a list of labels.  Implement the function to return the list of labels as One-Hot encoded Numpy array.  The possible values for labels are 0 to 9. The one-hot encoding function should return the same encoding for each value between each call to `one_hot_encode`.  Make sure to save the map of encodings outside the function.\n",
    "\n",
    "Hint: Don't reinvent the wheel."
   ]
  },
  {
   "cell_type": "code",
   "execution_count": 31,
   "metadata": {
    "collapsed": false,
    "deletable": true,
    "editable": true
   },
   "outputs": [
    {
     "name": "stdout",
     "output_type": "stream",
     "text": [
      "Tests Passed\n"
     ]
    }
   ],
   "source": [
    "def one_hot_encode(x):\n",
    "    \"\"\"\n",
    "    One hot encode a list of sample labels. Return a one-hot encoded vector for each label.\n",
    "    : x: List of sample Labels\n",
    "    : return: Numpy array of one-hot encoded labels\n",
    "    \"\"\"\n",
    "    num_classes = 10\n",
    "\n",
    "    result = np.zeros(shape=(len(x), num_classes))\n",
    "    result[np.arange(len(x)), x] = 1\n",
    "    one_hot_encode = result.astype(int)\n",
    "    return one_hot_encode\n",
    "\n",
    "\n",
    "\"\"\"\n",
    "DON'T MODIFY ANYTHING IN THIS CELL THAT IS BELOW THIS LINE\n",
    "\"\"\"\n",
    "tests.test_one_hot_encode(one_hot_encode)"
   ]
  },
  {
   "cell_type": "markdown",
   "metadata": {
    "deletable": true,
    "editable": true
   },
   "source": [
    "### Randomize Data\n",
    "As you saw from exploring the data above, the order of the samples are randomized.  It doesn't hurt to randomize it again, but you don't need to for this dataset."
   ]
  },
  {
   "cell_type": "markdown",
   "metadata": {
    "deletable": true,
    "editable": true
   },
   "source": [
    "## Preprocess all the data and save it\n",
    "Running the code cell below will preprocess all the CIFAR-10 data and save it to file. The code below also uses 10% of the training data for validation."
   ]
  },
  {
   "cell_type": "code",
   "execution_count": 32,
   "metadata": {
    "collapsed": true,
    "deletable": true,
    "editable": true
   },
   "outputs": [],
   "source": [
    "\"\"\"\n",
    "DON'T MODIFY ANYTHING IN THIS CELL\n",
    "\"\"\"\n",
    "# Preprocess Training, Validation, and Testing Data\n",
    "helper.preprocess_and_save_data(cifar10_dataset_folder_path, normalize, one_hot_encode)"
   ]
  },
  {
   "cell_type": "markdown",
   "metadata": {
    "deletable": true,
    "editable": true
   },
   "source": [
    "# Check Point\n",
    "This is your first checkpoint.  If you ever decide to come back to this notebook or have to restart the notebook, you can start from here.  The preprocessed data has been saved to disk."
   ]
  },
  {
   "cell_type": "code",
   "execution_count": 33,
   "metadata": {
    "collapsed": false,
    "deletable": true,
    "editable": true
   },
   "outputs": [],
   "source": [
    "\"\"\"\n",
    "DON'T MODIFY ANYTHING IN THIS CELL\n",
    "\"\"\"\n",
    "import pickle\n",
    "import problem_unittests as tests\n",
    "import helper\n",
    "\n",
    "# Load the Preprocessed Validation data\n",
    "valid_features, valid_labels = pickle.load(open('preprocess_validation.p', mode='rb'))"
   ]
  },
  {
   "cell_type": "markdown",
   "metadata": {
    "deletable": true,
    "editable": true
   },
   "source": [
    "## Build the network\n",
    "For the neural network, you'll build each layer into a function.  Most of the code you've seen has been outside of functions. To test your code more thoroughly, we require that you put each layer in a function.  This allows us to give you better feedback and test for simple mistakes using our unittests before you submit your project.\n",
    "\n",
    ">**Note:** If you're finding it hard to dedicate enough time for this course each week, we've provided a small shortcut to this part of the project. In the next couple of problems, you'll have the option to use classes from the [TensorFlow Layers](https://www.tensorflow.org/api_docs/python/tf/layers) or [TensorFlow Layers (contrib)](https://www.tensorflow.org/api_guides/python/contrib.layers) packages to build each layer, except the layers you build in the \"Convolutional and Max Pooling Layer\" section.  TF Layers is similar to Keras's and TFLearn's abstraction to layers, so it's easy to pickup.\n",
    "\n",
    ">However, if you would like to get the most out of this course, try to solve all the problems _without_ using anything from the TF Layers packages. You **can** still use classes from other packages that happen to have the same name as ones you find in TF Layers! For example, instead of using the TF Layers version of the `conv2d` class, [tf.layers.conv2d](https://www.tensorflow.org/api_docs/python/tf/layers/conv2d), you would want to use the TF Neural Network version of `conv2d`, [tf.nn.conv2d](https://www.tensorflow.org/api_docs/python/tf/nn/conv2d). \n",
    "\n",
    "Let's begin!\n",
    "\n",
    "### Input\n",
    "The neural network needs to read the image data, one-hot encoded labels, and dropout keep probability. Implement the following functions\n",
    "* Implement `neural_net_image_input`\n",
    " * Return a [TF Placeholder](https://www.tensorflow.org/api_docs/python/tf/placeholder)\n",
    " * Set the shape using `image_shape` with batch size set to `None`.\n",
    " * Name the TensorFlow placeholder \"x\" using the TensorFlow `name` parameter in the [TF Placeholder](https://www.tensorflow.org/api_docs/python/tf/placeholder).\n",
    "* Implement `neural_net_label_input`\n",
    " * Return a [TF Placeholder](https://www.tensorflow.org/api_docs/python/tf/placeholder)\n",
    " * Set the shape using `n_classes` with batch size set to `None`.\n",
    " * Name the TensorFlow placeholder \"y\" using the TensorFlow `name` parameter in the [TF Placeholder](https://www.tensorflow.org/api_docs/python/tf/placeholder).\n",
    "* Implement `neural_net_keep_prob_input`\n",
    " * Return a [TF Placeholder](https://www.tensorflow.org/api_docs/python/tf/placeholder) for dropout keep probability.\n",
    " * Name the TensorFlow placeholder \"keep_prob\" using the TensorFlow `name` parameter in the [TF Placeholder](https://www.tensorflow.org/api_docs/python/tf/placeholder).\n",
    "\n",
    "These names will be used at the end of the project to load your saved model.\n",
    "\n",
    "Note: `None` for shapes in TensorFlow allow for a dynamic size."
   ]
  },
  {
   "cell_type": "code",
   "execution_count": 34,
   "metadata": {
    "collapsed": false,
    "deletable": true,
    "editable": true
   },
   "outputs": [
    {
     "name": "stdout",
     "output_type": "stream",
     "text": [
      "Image Input Tests Passed.\n",
      "Label Input Tests Passed.\n",
      "Keep Prob Tests Passed.\n"
     ]
    }
   ],
   "source": [
    "import tensorflow as tf\n",
    "\n",
    "def neural_net_image_input(image_shape):\n",
    "    \"\"\"\n",
    "    Return a Tensor for a batch of image input\n",
    "    : image_shape: Shape of the images\n",
    "    : return: Tensor for image input.\n",
    "    \"\"\"\n",
    "    # TODO: Implement Function\n",
    "    x = tf.placeholder(\"float\", [None, image_shape[0], image_shape[1], image_shape[2]], name='x')\n",
    "    return x\n",
    "\n",
    "\n",
    "def neural_net_label_input(n_classes):\n",
    "    \"\"\"\n",
    "    Return a Tensor for a batch of label input\n",
    "    : n_classes: Number of classes\n",
    "    : return: Tensor for label input.\n",
    "    \"\"\"\n",
    "    # TODO: Implement Function\n",
    "    y = tf.placeholder(\"float\", [None, n_classes], name='y')\n",
    "    return y\n",
    "\n",
    "\n",
    "def neural_net_keep_prob_input():\n",
    "    \"\"\"\n",
    "    Return a Tensor for keep probability\n",
    "    : return: Tensor for keep probability.\n",
    "    \"\"\"\n",
    "    return tf.placeholder(tf.float32, shape=None, name='keep_prob')\n",
    "    return prop\n",
    "\n",
    "\n",
    "\"\"\"\n",
    "DON'T MODIFY ANYTHING IN THIS CELL THAT IS BELOW THIS LINE\n",
    "\"\"\"\n",
    "tf.reset_default_graph()\n",
    "tests.test_nn_image_inputs(neural_net_image_input)\n",
    "tests.test_nn_label_inputs(neural_net_label_input)\n",
    "tests.test_nn_keep_prob_inputs(neural_net_keep_prob_input)"
   ]
  },
  {
   "cell_type": "markdown",
   "metadata": {
    "deletable": true,
    "editable": true
   },
   "source": [
    "### Convolution and Max Pooling Layer\n",
    "Convolution layers have a lot of success with images. For this code cell, you should implement the function `conv2d_maxpool` to apply convolution then max pooling:\n",
    "* Create the weight and bias using `conv_ksize`, `conv_num_outputs` and the shape of `x_tensor`.\n",
    "* Apply a convolution to `x_tensor` using weight and `conv_strides`.\n",
    " * We recommend you use same padding, but you're welcome to use any padding.\n",
    "* Add bias\n",
    "* Add a nonlinear activation to the convolution.\n",
    "* Apply Max Pooling using `pool_ksize` and `pool_strides`.\n",
    " * We recommend you use same padding, but you're welcome to use any padding.\n",
    "\n",
    "**Note:** You **can't** use [TensorFlow Layers](https://www.tensorflow.org/api_docs/python/tf/layers) or [TensorFlow Layers (contrib)](https://www.tensorflow.org/api_guides/python/contrib.layers) for **this** layer, but you can still use TensorFlow's [Neural Network](https://www.tensorflow.org/api_docs/python/tf/nn) package. You may still use the shortcut option for all the **other** layers."
   ]
  },
  {
   "cell_type": "code",
   "execution_count": 35,
   "metadata": {
    "collapsed": false,
    "deletable": true,
    "editable": true
   },
   "outputs": [
    {
     "name": "stdout",
     "output_type": "stream",
     "text": [
      "Tests Passed\n"
     ]
    }
   ],
   "source": [
    "def conv2d_maxpool(x_tensor, conv_num_outputs, conv_ksize, conv_strides, pool_ksize, pool_strides):   \n",
    "    \"\"\"\n",
    "    Apply convolution then max pooling to x_tensor\n",
    "    :param x_tensor: TensorFlow Tensor\n",
    "    :param conv_num_outputs: Number of outputs for the convolutional layer\n",
    "    :param conv_ksize: kernal size 2-D Tuple for the convolutional layer\n",
    "    :param conv_strides: Stride 2-D Tuple for convolution\n",
    "    :param pool_ksize: kernal size 2-D Tuple for pool\n",
    "    :param pool_strides: Stride 2-D Tuple for pool\n",
    "    : return: A tensor that represents convolution and max pooling of x_tensor\n",
    "    \"\"\"\n",
    "    # TODO: Implement Function\n",
    "    # Weight and bias\n",
    "    \n",
    "    shapes = x_tensor.get_shape().as_list()\n",
    "    \n",
    "    filter = shapes[1:] + [conv_num_outputs]\n",
    "    \n",
    "    #weights = tf.Variable(tf.random_normal(filter)) \n",
    "    weights = tf.Variable(tf.truncated_normal((*conv_ksize, shapes[3], conv_num_outputs))) \n",
    "    \n",
    "    bias = tf.Variable(tf.zeros(conv_num_outputs))\n",
    "    \n",
    "    strides = [1, *conv_strides, 1]\n",
    "    \n",
    "    # Apply Convolution\n",
    "    conv_layer = tf.nn.conv2d(input=x_tensor, filter=weights, strides=strides, padding='SAME')\n",
    "    # Add bias\n",
    "    conv_layer = tf.nn.bias_add(conv_layer, bias)\n",
    "  \n",
    "    # Apply activation function\n",
    "    conv_layer = tf.nn.relu(conv_layer)\n",
    "\n",
    "    conv_layer = tf.nn.max_pool(conv_layer, [1, *pool_ksize, 1], strides=[1, *pool_strides, 1], padding='SAME')\n",
    "    \n",
    "    return conv_layer \n",
    "\n",
    "\n",
    "\"\"\"\n",
    "DON'T MODIFY ANYTHING IN THIS CELL THAT IS BELOW THIS LINE\n",
    "\"\"\"\n",
    "tests.test_con_pool(conv2d_maxpool)"
   ]
  },
  {
   "cell_type": "markdown",
   "metadata": {
    "deletable": true,
    "editable": true
   },
   "source": [
    "### Flatten Layer\n",
    "Implement the `flatten` function to change the dimension of `x_tensor` from a 4-D tensor to a 2-D tensor.  The output should be the shape (*Batch Size*, *Flattened Image Size*). Shortcut option: you can use classes from the [TensorFlow Layers](https://www.tensorflow.org/api_docs/python/tf/layers) or [TensorFlow Layers (contrib)](https://www.tensorflow.org/api_guides/python/contrib.layers) packages for this layer. For more of a challenge, only use other TensorFlow packages."
   ]
  },
  {
   "cell_type": "code",
   "execution_count": 36,
   "metadata": {
    "collapsed": false,
    "deletable": true,
    "editable": true
   },
   "outputs": [
    {
     "name": "stdout",
     "output_type": "stream",
     "text": [
      "Tests Passed\n"
     ]
    }
   ],
   "source": [
    "def flatten(x_tensor):\n",
    "    \"\"\"\n",
    "    Flatten x_tensor to (Batch Size, Flattened Image Size)\n",
    "    : x_tensor: A tensor of size (Batch Size, ...), where ... are the image dimensions.\n",
    "    : return: A tensor of size (Batch Size, Flattened Image Size).\n",
    "    \"\"\"\n",
    "    # TODO: Implement Function\n",
    "    flattened = tf.contrib.layers.flatten(x_tensor)\n",
    "    return  flattened\n",
    "\n",
    "\n",
    "\n",
    "\"\"\"\n",
    "DON'T MODIFY ANYTHING IN THIS CELL THAT IS BELOW THIS LINE\n",
    "\"\"\"\n",
    "tests.test_flatten(flatten)"
   ]
  },
  {
   "cell_type": "markdown",
   "metadata": {
    "deletable": true,
    "editable": true
   },
   "source": [
    "### Fully-Connected Layer\n",
    "Implement the `fully_conn` function to apply a fully connected layer to `x_tensor` with the shape (*Batch Size*, *num_outputs*). Shortcut option: you can use classes from the [TensorFlow Layers](https://www.tensorflow.org/api_docs/python/tf/layers) or [TensorFlow Layers (contrib)](https://www.tensorflow.org/api_guides/python/contrib.layers) packages for this layer. For more of a challenge, only use other TensorFlow packages."
   ]
  },
  {
   "cell_type": "code",
   "execution_count": 37,
   "metadata": {
    "collapsed": false,
    "deletable": true,
    "editable": true
   },
   "outputs": [
    {
     "name": "stdout",
     "output_type": "stream",
     "text": [
      "Tests Passed\n"
     ]
    }
   ],
   "source": [
    "def fully_conn(x_tensor, num_outputs):\n",
    "    \"\"\"\n",
    "    Apply a fully connected layer to x_tensor using weight and bias\n",
    "    : x_tensor: A 2-D tensor where the first dimension is batch size.\n",
    "    : num_outputs: The number of output that the new tensor should be.\n",
    "    : return: A 2-D tensor where the second dimension is num_outputs.\n",
    "    \"\"\"\n",
    "    # TODO: Implement Function\n",
    "    return tf.layers.dense(inputs=x_tensor, units=num_outputs, activation=tf.nn.relu)\n",
    "    #return tf.layers.dense(inputs=x_tensor, units=num_outputs)\n",
    "\n",
    "\n",
    "\"\"\"\n",
    "DON'T MODIFY ANYTHING IN THIS CELL THAT IS BELOW THIS LINE\n",
    "\"\"\"\n",
    "tests.test_fully_conn(fully_conn)"
   ]
  },
  {
   "cell_type": "markdown",
   "metadata": {
    "deletable": true,
    "editable": true
   },
   "source": [
    "### Output Layer\n",
    "Implement the `output` function to apply a fully connected layer to `x_tensor` with the shape (*Batch Size*, *num_outputs*). Shortcut option: you can use classes from the [TensorFlow Layers](https://www.tensorflow.org/api_docs/python/tf/layers) or [TensorFlow Layers (contrib)](https://www.tensorflow.org/api_guides/python/contrib.layers) packages for this layer. For more of a challenge, only use other TensorFlow packages.\n",
    "\n",
    "**Note:** Activation, softmax, or cross entropy should **not** be applied to this."
   ]
  },
  {
   "cell_type": "code",
   "execution_count": 38,
   "metadata": {
    "collapsed": false,
    "deletable": true,
    "editable": true
   },
   "outputs": [
    {
     "name": "stdout",
     "output_type": "stream",
     "text": [
      "Tests Passed\n"
     ]
    }
   ],
   "source": [
    "def output(x_tensor, num_outputs):\n",
    "    \"\"\"\n",
    "    Apply a output layer to x_tensor using weight and bias\n",
    "    : x_tensor: A 2-D tensor where the first dimension is batch size.\n",
    "    : num_outputs: The number of output that the new tensor should be.\n",
    "    : return: A 2-D tensor where the second dimension is num_outputs.\n",
    "    \"\"\"\n",
    "    # TODO: Implement Function\n",
    "    return tf.layers.dense(inputs=x_tensor, units=num_outputs)\n",
    "\n",
    "\n",
    "\n",
    "\"\"\"\n",
    "DON'T MODIFY ANYTHING IN THIS CELL THAT IS BELOW THIS LINE\n",
    "\"\"\"\n",
    "tests.test_output(output)"
   ]
  },
  {
   "cell_type": "markdown",
   "metadata": {
    "deletable": true,
    "editable": true
   },
   "source": [
    "### Create Convolutional Model\n",
    "Implement the function `conv_net` to create a convolutional neural network model. The function takes in a batch of images, `x`, and outputs logits.  Use the layers you created above to create this model:\n",
    "\n",
    "* Apply 1, 2, or 3 Convolution and Max Pool layers\n",
    "* Apply a Flatten Layer\n",
    "* Apply 1, 2, or 3 Fully Connected Layers\n",
    "* Apply an Output Layer\n",
    "* Return the output\n",
    "* Apply [TensorFlow's Dropout](https://www.tensorflow.org/api_docs/python/tf/nn/dropout) to one or more layers in the model using `keep_prob`. "
   ]
  },
  {
   "cell_type": "code",
   "execution_count": 39,
   "metadata": {
    "collapsed": false,
    "deletable": true,
    "editable": true
   },
   "outputs": [
    {
     "name": "stdout",
     "output_type": "stream",
     "text": [
      "Neural Network Built!\n"
     ]
    }
   ],
   "source": [
    "def conv_net(x, keep_prob):\n",
    "    \"\"\"\n",
    "    Create a convolutional neural network model\n",
    "    : x: Placeholder tensor that holds image data.\n",
    "    : keep_prob: Placeholder tensor that hold dropout keep probability.\n",
    "    : return: Tensor that represents logits\n",
    "    \"\"\"\n",
    "    # TODO: Apply 1, 2, or 3 Convolution and Max Pool layers\n",
    "    #    Play around with different number of outputs, kernel size and stride\n",
    "    # Function Definition from Above:\n",
    "    x_tensor = x\n",
    "    conv_num_outputs = 10\n",
    "    \n",
    "    conv_ksize = (8, 8)\n",
    "    conv_strides = (1, 1)\n",
    "    \n",
    "    pool_ksize = (2, 2)\n",
    "    pool_strides = (2, 2)\n",
    "    \n",
    "    conv = conv2d_maxpool(x, conv_num_outputs, conv_ksize, conv_strides, pool_ksize, pool_strides)\n",
    "    \n",
    "    conv_ksize = (4, 4)\n",
    "    conv_strides = (1, 1)\n",
    "    \n",
    "    conv = conv2d_maxpool(conv, conv_num_outputs, conv_ksize, conv_strides, pool_ksize, pool_strides)\n",
    "\n",
    "\n",
    "    # TODO: Apply a Flatten Layer\n",
    "    # Function Definition from Above:\n",
    "    conv = flatten(conv)\n",
    "    \n",
    "\n",
    "    # TODO: Apply 1, 2, or 3 Fully Connected Layers\n",
    "    #    Play around with different number of outputs\n",
    "    # Function Definition from Above:\n",
    "    conv = fully_conn(conv, 100)\n",
    "    conv = fully_conn(conv, 100)\n",
    "\n",
    "    conv = tf.nn.dropout(conv, keep_prob=keep_prob)\n",
    "    \n",
    "    # TODO: Apply an Output Layer\n",
    "    #    Set this to the number of classes\n",
    "    # Function Definition from Above:\n",
    "    conv = output(conv, 10)\n",
    "    \n",
    "    \n",
    "    # TODO: return output\n",
    "    return conv\n",
    "\n",
    "\n",
    "\"\"\"\n",
    "DON'T MODIFY ANYTHING IN THIS CELL THAT IS BELOW THIS LINE\n",
    "\"\"\"\n",
    "\n",
    "##############################\n",
    "## Build the Neural Network ##\n",
    "##############################\n",
    "\n",
    "# Remove previous weights, bias, inputs, etc..\n",
    "tf.reset_default_graph()\n",
    "\n",
    "# Inputs\n",
    "x = neural_net_image_input((32, 32, 3))\n",
    "y = neural_net_label_input(10)\n",
    "keep_prob = neural_net_keep_prob_input()\n",
    "\n",
    "# Model\n",
    "logits = conv_net(x, keep_prob)\n",
    "\n",
    "# Name logits Tensor, so that is can be loaded from disk after training\n",
    "logits = tf.identity(logits, name='logits')\n",
    "\n",
    "# Loss and Optimizer\n",
    "cost = tf.reduce_mean(tf.nn.softmax_cross_entropy_with_logits(logits=logits, labels=y))\n",
    "optimizer = tf.train.AdamOptimizer().minimize(cost)\n",
    "\n",
    "# Accuracy\n",
    "correct_pred = tf.equal(tf.argmax(logits, 1), tf.argmax(y, 1))\n",
    "accuracy = tf.reduce_mean(tf.cast(correct_pred, tf.float32), name='accuracy')\n",
    "\n",
    "tests.test_conv_net(conv_net)"
   ]
  },
  {
   "cell_type": "markdown",
   "metadata": {
    "deletable": true,
    "editable": true
   },
   "source": [
    "## Train the Neural Network\n",
    "### Single Optimization\n",
    "Implement the function `train_neural_network` to do a single optimization.  The optimization should use `optimizer` to optimize in `session` with a `feed_dict` of the following:\n",
    "* `x` for image input\n",
    "* `y` for labels\n",
    "* `keep_prob` for keep probability for dropout\n",
    "\n",
    "This function will be called for each batch, so `tf.global_variables_initializer()` has already been called.\n",
    "\n",
    "Note: Nothing needs to be returned. This function is only optimizing the neural network."
   ]
  },
  {
   "cell_type": "code",
   "execution_count": 40,
   "metadata": {
    "collapsed": false,
    "deletable": true,
    "editable": true
   },
   "outputs": [
    {
     "name": "stdout",
     "output_type": "stream",
     "text": [
      "Tests Passed\n"
     ]
    }
   ],
   "source": [
    "def train_neural_network(sess, optimizer, keep_probability, feature_batch, label_batch):\n",
    "    \"\"\"\n",
    "    Optimize the session on a batch of images and labels\n",
    "    : session: Current TensorFlow session\n",
    "    : optimizer: TensorFlow optimizer function\n",
    "    : keep_probability: keep probability\n",
    "    : feature_batch: Batch of Numpy image data\n",
    "    : label_batch: Batch of Numpy label data\n",
    "    \"\"\"\n",
    "    # Training cycle\n",
    "    sess.run(optimizer, feed_dict={x: feature_batch, y: label_batch, keep_prob: keep_probability})\n",
    "    pass\n",
    "\n",
    "\n",
    "\"\"\"\n",
    "DON'T MODIFY ANYTHING IN THIS CELL THAT IS BELOW THIS LINE\n",
    "\"\"\"\n",
    "tests.test_train_nn(train_neural_network)"
   ]
  },
  {
   "cell_type": "markdown",
   "metadata": {
    "deletable": true,
    "editable": true
   },
   "source": [
    "### Show Stats\n",
    "Implement the function `print_stats` to print loss and validation accuracy.  Use the global variables `valid_features` and `valid_labels` to calculate validation accuracy.  Use a keep probability of `1.0` to calculate the loss and validation accuracy."
   ]
  },
  {
   "cell_type": "code",
   "execution_count": 41,
   "metadata": {
    "collapsed": false,
    "deletable": true,
    "editable": true
   },
   "outputs": [],
   "source": [
    "def print_stats(session, feature_batch, label_batch, cost, accuracy):\n",
    "    \"\"\"\n",
    "    Print information about loss and validation accuracy\n",
    "    : session: Current TensorFlow session\n",
    "    : feature_batch: Batch of Numpy image data\n",
    "    : label_batch: Batch of Numpy label data\n",
    "    : cost: TensorFlow cost function\n",
    "    : accuracy: TensorFlow accuracy function\n",
    "    \"\"\"\n",
    "    valid_accuracy = sess.run( accuracy, feed_dict={x: valid_features, y: valid_labels, keep_prob: 1})\n",
    "    valid_cost = sess.run(cost, feed_dict={x: feature_batch, y: label_batch, keep_prob: 1})\n",
    "    print('Validation Accuracy: {}% -  Cost: {}'.format(round(valid_accuracy*100, 6), round(valid_cost, 6)))\n",
    "    pass"
   ]
  },
  {
   "cell_type": "markdown",
   "metadata": {
    "deletable": true,
    "editable": true
   },
   "source": [
    "### Hyperparameters\n",
    "Tune the following parameters:\n",
    "* Set `epochs` to the number of iterations until the network stops learning or start overfitting\n",
    "* Set `batch_size` to the highest number that your machine has memory for.  Most people set them to common sizes of memory:\n",
    " * 64\n",
    " * 128\n",
    " * 256\n",
    " * ...\n",
    "* Set `keep_probability` to the probability of keeping a node using dropout"
   ]
  },
  {
   "cell_type": "code",
   "execution_count": 42,
   "metadata": {
    "collapsed": false,
    "deletable": true,
    "editable": true
   },
   "outputs": [],
   "source": [
    "# TODO: Tune Parameters\n",
    "epochs = 50\n",
    "batch_size = 100\n",
    "keep_probability = 0.75"
   ]
  },
  {
   "cell_type": "markdown",
   "metadata": {
    "deletable": true,
    "editable": true
   },
   "source": [
    "### Train on a Single CIFAR-10 Batch\n",
    "Instead of training the neural network on all the CIFAR-10 batches of data, let's use a single batch. This should save time while you iterate on the model to get a better accuracy.  Once the final validation accuracy is 50% or greater, run the model on all the data in the next section."
   ]
  },
  {
   "cell_type": "code",
   "execution_count": 43,
   "metadata": {
    "collapsed": false,
    "deletable": true,
    "editable": true
   },
   "outputs": [
    {
     "name": "stdout",
     "output_type": "stream",
     "text": [
      "Checking the Training on a Single Batch...\n",
      "Epoch  1, CIFAR-10 Batch 1:  Validation Accuracy: 14.920001% -  Cost: 2.284101963043213\n",
      "Epoch  2, CIFAR-10 Batch 1:  Validation Accuracy: 19.400001% -  Cost: 2.2081990242004395\n",
      "Epoch  3, CIFAR-10 Batch 1:  Validation Accuracy: 22.679999% -  Cost: 2.163422107696533\n",
      "Epoch  4, CIFAR-10 Batch 1:  Validation Accuracy: 23.0% -  Cost: 2.092042922973633\n",
      "Epoch  5, CIFAR-10 Batch 1:  Validation Accuracy: 25.639999% -  Cost: 2.023650884628296\n",
      "Epoch  6, CIFAR-10 Batch 1:  Validation Accuracy: 27.48% -  Cost: 1.9150300025939941\n",
      "Epoch  7, CIFAR-10 Batch 1:  Validation Accuracy: 30.739999% -  Cost: 1.8629740476608276\n",
      "Epoch  8, CIFAR-10 Batch 1:  Validation Accuracy: 32.42% -  Cost: 1.828626036643982\n",
      "Epoch  9, CIFAR-10 Batch 1:  Validation Accuracy: 32.960001% -  Cost: 1.8142709732055664\n",
      "Epoch 10, CIFAR-10 Batch 1:  Validation Accuracy: 34.599999% -  Cost: 1.716994047164917\n",
      "Epoch 11, CIFAR-10 Batch 1:  Validation Accuracy: 35.859999% -  Cost: 1.6583880186080933\n",
      "Epoch 12, CIFAR-10 Batch 1:  Validation Accuracy: 36.359999% -  Cost: 1.6786060333251953\n",
      "Epoch 13, CIFAR-10 Batch 1:  Validation Accuracy: 37.66% -  Cost: 1.5847569704055786\n",
      "Epoch 14, CIFAR-10 Batch 1:  Validation Accuracy: 37.0% -  Cost: 1.5991770029067993\n",
      "Epoch 15, CIFAR-10 Batch 1:  Validation Accuracy: 38.080001% -  Cost: 1.5222409963607788\n",
      "Epoch 16, CIFAR-10 Batch 1:  Validation Accuracy: 38.859999% -  Cost: 1.4951599836349487\n",
      "Epoch 17, CIFAR-10 Batch 1:  Validation Accuracy: 38.820001% -  Cost: 1.4629549980163574\n",
      "Epoch 18, CIFAR-10 Batch 1:  Validation Accuracy: 39.219999% -  Cost: 1.399256944656372\n",
      "Epoch 19, CIFAR-10 Batch 1:  Validation Accuracy: 39.26% -  Cost: 1.3744629621505737\n",
      "Epoch 20, CIFAR-10 Batch 1:  Validation Accuracy: 38.319999% -  Cost: 1.3826370239257812\n",
      "Epoch 21, CIFAR-10 Batch 1:  Validation Accuracy: 38.420001% -  Cost: 1.3468250036239624\n",
      "Epoch 22, CIFAR-10 Batch 1:  Validation Accuracy: 38.859999% -  Cost: 1.2447429895401\n",
      "Epoch 23, CIFAR-10 Batch 1:  Validation Accuracy: 39.94% -  Cost: 1.2144219875335693\n",
      "Epoch 24, CIFAR-10 Batch 1:  Validation Accuracy: 40.68% -  Cost: 1.2359939813613892\n",
      "Epoch 25, CIFAR-10 Batch 1:  Validation Accuracy: 40.200001% -  Cost: 1.1943559646606445\n",
      "Epoch 26, CIFAR-10 Batch 1:  Validation Accuracy: 40.079999% -  Cost: 1.148110032081604\n",
      "Epoch 27, CIFAR-10 Batch 1:  Validation Accuracy: 40.599999% -  Cost: 1.1050540208816528\n",
      "Epoch 28, CIFAR-10 Batch 1:  Validation Accuracy: 40.900001% -  Cost: 1.0651119947433472\n",
      "Epoch 29, CIFAR-10 Batch 1:  Validation Accuracy: 40.619999% -  Cost: 1.0186810493469238\n",
      "Epoch 30, CIFAR-10 Batch 1:  Validation Accuracy: 40.040001% -  Cost: 1.0478190183639526\n",
      "Epoch 31, CIFAR-10 Batch 1:  Validation Accuracy: 39.500001% -  Cost: 1.0421459674835205\n",
      "Epoch 32, CIFAR-10 Batch 1:  Validation Accuracy: 39.179999% -  Cost: 1.018699049949646\n",
      "Epoch 33, CIFAR-10 Batch 1:  Validation Accuracy: 40.66% -  Cost: 0.986752986907959\n",
      "Epoch 34, CIFAR-10 Batch 1:  Validation Accuracy: 40.619999% -  Cost: 0.91873699426651\n",
      "Epoch 35, CIFAR-10 Batch 1:  Validation Accuracy: 41.2% -  Cost: 0.8442040085792542\n",
      "Epoch 36, CIFAR-10 Batch 1:  Validation Accuracy: 41.159999% -  Cost: 0.8140550255775452\n",
      "Epoch 37, CIFAR-10 Batch 1:  Validation Accuracy: 41.74% -  Cost: 0.7595700025558472\n",
      "Epoch 38, CIFAR-10 Batch 1:  Validation Accuracy: 41.240001% -  Cost: 0.6971610188484192\n",
      "Epoch 39, CIFAR-10 Batch 1:  Validation Accuracy: 41.819999% -  Cost: 0.7132530212402344\n",
      "Epoch 40, CIFAR-10 Batch 1:  Validation Accuracy: 40.259999% -  Cost: 0.7057999968528748\n",
      "Epoch 41, CIFAR-10 Batch 1:  Validation Accuracy: 40.200001% -  Cost: 0.6980950236320496\n",
      "Epoch 42, CIFAR-10 Batch 1:  Validation Accuracy: 40.799999% -  Cost: 0.6560029983520508\n",
      "Epoch 43, CIFAR-10 Batch 1:  Validation Accuracy: 40.68% -  Cost: 0.6597210168838501\n",
      "Epoch 44, CIFAR-10 Batch 1:  Validation Accuracy: 40.16% -  Cost: 0.7084230184555054\n",
      "Epoch 45, CIFAR-10 Batch 1:  Validation Accuracy: 39.160001% -  Cost: 0.6700850129127502\n",
      "Epoch 46, CIFAR-10 Batch 1:  Validation Accuracy: 39.480001% -  Cost: 0.633167028427124\n",
      "Epoch 47, CIFAR-10 Batch 1:  Validation Accuracy: 40.700001% -  Cost: 0.7150570154190063\n",
      "Epoch 48, CIFAR-10 Batch 1:  Validation Accuracy: 41.18% -  Cost: 0.6283069849014282\n",
      "Epoch 49, CIFAR-10 Batch 1:  Validation Accuracy: 41.4% -  Cost: 0.5808899998664856\n",
      "Epoch 50, CIFAR-10 Batch 1:  Validation Accuracy: 40.740001% -  Cost: 0.5214269757270813\n"
     ]
    }
   ],
   "source": [
    "\"\"\"\n",
    "DON'T MODIFY ANYTHING IN THIS CELL\n",
    "\"\"\"\n",
    "print('Checking the Training on a Single Batch...')\n",
    "with tf.Session() as sess:\n",
    "    # Initializing the variables\n",
    "    sess.run(tf.global_variables_initializer())\n",
    "    \n",
    "    # Training cycle\n",
    "    for epoch in range(epochs):\n",
    "        batch_i = 1\n",
    "        for batch_features, batch_labels in helper.load_preprocess_training_batch(batch_i, batch_size):\n",
    "            train_neural_network(sess, optimizer, keep_probability, batch_features, batch_labels)\n",
    "        print('Epoch {:>2}, CIFAR-10 Batch {}:  '.format(epoch + 1, batch_i), end='')\n",
    "        print_stats(sess, batch_features, batch_labels, cost, accuracy)"
   ]
  },
  {
   "cell_type": "markdown",
   "metadata": {
    "deletable": true,
    "editable": true
   },
   "source": [
    "### Fully Train the Model\n",
    "Now that you got a good accuracy with a single CIFAR-10 batch, try it with all five batches."
   ]
  },
  {
   "cell_type": "code",
   "execution_count": 44,
   "metadata": {
    "collapsed": false,
    "deletable": true,
    "editable": true
   },
   "outputs": [
    {
     "name": "stdout",
     "output_type": "stream",
     "text": [
      "Training...\n",
      "Epoch  1, CIFAR-10 Batch 1:  Validation Accuracy: 10.94% -  Cost: 2.331533908843994\n",
      "Epoch  1, CIFAR-10 Batch 2:  Validation Accuracy: 10.76% -  Cost: 2.309645891189575\n",
      "Epoch  1, CIFAR-10 Batch 3:  Validation Accuracy: 11.86% -  Cost: 2.2960379123687744\n",
      "Epoch  1, CIFAR-10 Batch 4:  Validation Accuracy: 15.459999% -  Cost: 2.1669669151306152\n",
      "Epoch  1, CIFAR-10 Batch 5:  Validation Accuracy: 15.260001% -  Cost: 2.227524995803833\n",
      "Epoch  2, CIFAR-10 Batch 1:  Validation Accuracy: 14.820001% -  Cost: 2.2637898921966553\n",
      "Epoch  2, CIFAR-10 Batch 2:  Validation Accuracy: 15.82% -  Cost: 2.142956018447876\n",
      "Epoch  2, CIFAR-10 Batch 3:  Validation Accuracy: 16.62% -  Cost: 2.1610069274902344\n",
      "Epoch  2, CIFAR-10 Batch 4:  Validation Accuracy: 17.6% -  Cost: 2.0944039821624756\n",
      "Epoch  2, CIFAR-10 Batch 5:  Validation Accuracy: 20.379999% -  Cost: 2.0826759338378906\n",
      "Epoch  3, CIFAR-10 Batch 1:  Validation Accuracy: 19.8% -  Cost: 2.2491838932037354\n",
      "Epoch  3, CIFAR-10 Batch 2:  Validation Accuracy: 19.8% -  Cost: 1.9818819761276245\n",
      "Epoch  3, CIFAR-10 Batch 3:  Validation Accuracy: 21.2% -  Cost: 1.8995369672775269\n",
      "Epoch  3, CIFAR-10 Batch 4:  Validation Accuracy: 22.499999% -  Cost: 1.9856040477752686\n",
      "Epoch  3, CIFAR-10 Batch 5:  Validation Accuracy: 24.32% -  Cost: 1.9208619594573975\n",
      "Epoch  4, CIFAR-10 Batch 1:  Validation Accuracy: 25.080001% -  Cost: 2.162830114364624\n",
      "Epoch  4, CIFAR-10 Batch 2:  Validation Accuracy: 27.759999% -  Cost: 1.8766740560531616\n",
      "Epoch  4, CIFAR-10 Batch 3:  Validation Accuracy: 26.879999% -  Cost: 1.7717839479446411\n",
      "Epoch  4, CIFAR-10 Batch 4:  Validation Accuracy: 28.200001% -  Cost: 1.8168729543685913\n",
      "Epoch  4, CIFAR-10 Batch 5:  Validation Accuracy: 28.740001% -  Cost: 1.8056299686431885\n",
      "Epoch  5, CIFAR-10 Batch 1:  Validation Accuracy: 30.140001% -  Cost: 2.1114211082458496\n",
      "Epoch  5, CIFAR-10 Batch 2:  Validation Accuracy: 31.220001% -  Cost: 1.7895820140838623\n",
      "Epoch  5, CIFAR-10 Batch 3:  Validation Accuracy: 31.079999% -  Cost: 1.6762349605560303\n",
      "Epoch  5, CIFAR-10 Batch 4:  Validation Accuracy: 33.000001% -  Cost: 1.6794029474258423\n",
      "Epoch  5, CIFAR-10 Batch 5:  Validation Accuracy: 32.600001% -  Cost: 1.7431089878082275\n",
      "Epoch  6, CIFAR-10 Batch 1:  Validation Accuracy: 33.579999% -  Cost: 2.0579888820648193\n",
      "Epoch  6, CIFAR-10 Batch 2:  Validation Accuracy: 35.120001% -  Cost: 1.7717269659042358\n",
      "Epoch  6, CIFAR-10 Batch 3:  Validation Accuracy: 34.540001% -  Cost: 1.630776047706604\n",
      "Epoch  6, CIFAR-10 Batch 4:  Validation Accuracy: 36.399999% -  Cost: 1.6541719436645508\n",
      "Epoch  6, CIFAR-10 Batch 5:  Validation Accuracy: 34.920001% -  Cost: 1.6541550159454346\n",
      "Epoch  7, CIFAR-10 Batch 1:  Validation Accuracy: 37.14% -  Cost: 1.9531550407409668\n",
      "Epoch  7, CIFAR-10 Batch 2:  Validation Accuracy: 38.060001% -  Cost: 1.6921390295028687\n",
      "Epoch  7, CIFAR-10 Batch 3:  Validation Accuracy: 37.439999% -  Cost: 1.540166974067688\n",
      "Epoch  7, CIFAR-10 Batch 4:  Validation Accuracy: 38.54% -  Cost: 1.5882829427719116\n",
      "Epoch  7, CIFAR-10 Batch 5:  Validation Accuracy: 36.96% -  Cost: 1.6583349704742432\n",
      "Epoch  8, CIFAR-10 Batch 1:  Validation Accuracy: 39.160001% -  Cost: 1.8689219951629639\n",
      "Epoch  8, CIFAR-10 Batch 2:  Validation Accuracy: 39.219999% -  Cost: 1.6347969770431519\n",
      "Epoch  8, CIFAR-10 Batch 3:  Validation Accuracy: 38.999999% -  Cost: 1.506451964378357\n",
      "Epoch  8, CIFAR-10 Batch 4:  Validation Accuracy: 40.759999% -  Cost: 1.571423053741455\n",
      "Epoch  8, CIFAR-10 Batch 5:  Validation Accuracy: 41.0% -  Cost: 1.5348869562149048\n",
      "Epoch  9, CIFAR-10 Batch 1:  Validation Accuracy: 42.28% -  Cost: 1.8001400232315063\n",
      "Epoch  9, CIFAR-10 Batch 2:  Validation Accuracy: 42.58% -  Cost: 1.516610026359558\n",
      "Epoch  9, CIFAR-10 Batch 3:  Validation Accuracy: 43.66% -  Cost: 1.3658679723739624\n",
      "Epoch  9, CIFAR-10 Batch 4:  Validation Accuracy: 43.700001% -  Cost: 1.49885094165802\n",
      "Epoch  9, CIFAR-10 Batch 5:  Validation Accuracy: 43.64% -  Cost: 1.5025960206985474\n",
      "Epoch 10, CIFAR-10 Batch 1:  Validation Accuracy: 43.86% -  Cost: 1.7883139848709106\n",
      "Epoch 10, CIFAR-10 Batch 2:  Validation Accuracy: 44.620001% -  Cost: 1.4831479787826538\n",
      "Epoch 10, CIFAR-10 Batch 3:  Validation Accuracy: 46.239999% -  Cost: 1.2476060390472412\n",
      "Epoch 10, CIFAR-10 Batch 4:  Validation Accuracy: 45.100001% -  Cost: 1.4125880002975464\n",
      "Epoch 10, CIFAR-10 Batch 5:  Validation Accuracy: 47.02% -  Cost: 1.420712947845459\n",
      "Epoch 11, CIFAR-10 Batch 1:  Validation Accuracy: 46.46% -  Cost: 1.775454044342041\n",
      "Epoch 11, CIFAR-10 Batch 2:  Validation Accuracy: 47.400001% -  Cost: 1.399198055267334\n",
      "Epoch 11, CIFAR-10 Batch 3:  Validation Accuracy: 47.420001% -  Cost: 1.218140959739685\n",
      "Epoch 11, CIFAR-10 Batch 4:  Validation Accuracy: 46.959999% -  Cost: 1.3671350479125977\n",
      "Epoch 11, CIFAR-10 Batch 5:  Validation Accuracy: 48.019999% -  Cost: 1.354894995689392\n",
      "Epoch 12, CIFAR-10 Batch 1:  Validation Accuracy: 47.080001% -  Cost: 1.6206140518188477\n",
      "Epoch 12, CIFAR-10 Batch 2:  Validation Accuracy: 47.74% -  Cost: 1.3857380151748657\n",
      "Epoch 12, CIFAR-10 Batch 3:  Validation Accuracy: 48.840001% -  Cost: 1.1794240474700928\n",
      "Epoch 12, CIFAR-10 Batch 4:  Validation Accuracy: 47.999999% -  Cost: 1.3805840015411377\n",
      "Epoch 12, CIFAR-10 Batch 5:  Validation Accuracy: 48.92% -  Cost: 1.3160550594329834\n",
      "Epoch 13, CIFAR-10 Batch 1:  Validation Accuracy: 49.399999% -  Cost: 1.5673060417175293\n",
      "Epoch 13, CIFAR-10 Batch 2:  Validation Accuracy: 50.040001% -  Cost: 1.2708460092544556\n",
      "Epoch 13, CIFAR-10 Batch 3:  Validation Accuracy: 49.559999% -  Cost: 1.1276509761810303\n",
      "Epoch 13, CIFAR-10 Batch 4:  Validation Accuracy: 50.279999% -  Cost: 1.3144780397415161\n",
      "Epoch 13, CIFAR-10 Batch 5:  Validation Accuracy: 49.66% -  Cost: 1.2592790126800537\n",
      "Epoch 14, CIFAR-10 Batch 1:  Validation Accuracy: 49.28% -  Cost: 1.5273610353469849\n",
      "Epoch 14, CIFAR-10 Batch 2:  Validation Accuracy: 50.099999% -  Cost: 1.2777459621429443\n",
      "Epoch 14, CIFAR-10 Batch 3:  Validation Accuracy: 49.520001% -  Cost: 1.1164720058441162\n",
      "Epoch 14, CIFAR-10 Batch 4:  Validation Accuracy: 50.86% -  Cost: 1.3208719491958618\n",
      "Epoch 14, CIFAR-10 Batch 5:  Validation Accuracy: 50.999999% -  Cost: 1.203982949256897\n",
      "Epoch 15, CIFAR-10 Batch 1:  Validation Accuracy: 50.040001% -  Cost: 1.431169033050537\n",
      "Epoch 15, CIFAR-10 Batch 2:  Validation Accuracy: 50.999999% -  Cost: 1.2393219470977783\n",
      "Epoch 15, CIFAR-10 Batch 3:  Validation Accuracy: 50.120002% -  Cost: 1.0689500570297241\n",
      "Epoch 15, CIFAR-10 Batch 4:  Validation Accuracy: 50.580001% -  Cost: 1.2682900428771973\n",
      "Epoch 15, CIFAR-10 Batch 5:  Validation Accuracy: 50.999999% -  Cost: 1.1595380306243896\n",
      "Epoch 16, CIFAR-10 Batch 1:  Validation Accuracy: 51.04% -  Cost: 1.380426049232483\n",
      "Epoch 16, CIFAR-10 Batch 2:  Validation Accuracy: 51.859999% -  Cost: 1.1652419567108154\n",
      "Epoch 16, CIFAR-10 Batch 3:  Validation Accuracy: 51.58% -  Cost: 1.0426490306854248\n",
      "Epoch 16, CIFAR-10 Batch 4:  Validation Accuracy: 51.560003% -  Cost: 1.2283899784088135\n",
      "Epoch 16, CIFAR-10 Batch 5:  Validation Accuracy: 52.200001% -  Cost: 1.1249910593032837\n",
      "Epoch 17, CIFAR-10 Batch 1:  Validation Accuracy: 51.499999% -  Cost: 1.3683120012283325\n",
      "Epoch 17, CIFAR-10 Batch 2:  Validation Accuracy: 52.060002% -  Cost: 1.1200159788131714\n",
      "Epoch 17, CIFAR-10 Batch 3:  Validation Accuracy: 50.940001% -  Cost: 1.0390969514846802\n",
      "Epoch 17, CIFAR-10 Batch 4:  Validation Accuracy: 52.319998% -  Cost: 1.1766270399093628\n",
      "Epoch 17, CIFAR-10 Batch 5:  Validation Accuracy: 51.980001% -  Cost: 1.1292589902877808\n",
      "Epoch 18, CIFAR-10 Batch 1:  Validation Accuracy: 51.920003% -  Cost: 1.3375630378723145\n",
      "Epoch 18, CIFAR-10 Batch 2:  Validation Accuracy: 51.700002% -  Cost: 1.0919829607009888\n",
      "Epoch 18, CIFAR-10 Batch 3:  Validation Accuracy: 51.740003% -  Cost: 1.0093170404434204\n",
      "Epoch 18, CIFAR-10 Batch 4:  Validation Accuracy: 51.359999% -  Cost: 1.193235993385315\n",
      "Epoch 18, CIFAR-10 Batch 5:  Validation Accuracy: 51.560003% -  Cost: 1.1128629446029663\n",
      "Epoch 19, CIFAR-10 Batch 1:  Validation Accuracy: 50.940001% -  Cost: 1.3114479780197144\n",
      "Epoch 19, CIFAR-10 Batch 2:  Validation Accuracy: 51.980001% -  Cost: 1.074002981185913\n",
      "Epoch 19, CIFAR-10 Batch 3:  Validation Accuracy: 52.380002% -  Cost: 1.0194519758224487\n",
      "Epoch 19, CIFAR-10 Batch 4:  Validation Accuracy: 52.380002% -  Cost: 1.1412910223007202\n",
      "Epoch 19, CIFAR-10 Batch 5:  Validation Accuracy: 51.300001% -  Cost: 1.1100289821624756\n",
      "Epoch 20, CIFAR-10 Batch 1:  Validation Accuracy: 52.899998% -  Cost: 1.2386070489883423\n",
      "Epoch 20, CIFAR-10 Batch 2:  Validation Accuracy: 50.940001% -  Cost: 1.0329229831695557\n",
      "Epoch 20, CIFAR-10 Batch 3:  Validation Accuracy: 51.560003% -  Cost: 0.9613310098648071\n",
      "Epoch 20, CIFAR-10 Batch 4:  Validation Accuracy: 51.920003% -  Cost: 1.1076689958572388\n",
      "Epoch 20, CIFAR-10 Batch 5:  Validation Accuracy: 52.039999% -  Cost: 1.0621490478515625\n",
      "Epoch 21, CIFAR-10 Batch 1:  Validation Accuracy: 52.939999% -  Cost: 1.3005160093307495\n",
      "Epoch 21, CIFAR-10 Batch 2:  Validation Accuracy: 52.600002% -  Cost: 1.0043859481811523\n",
      "Epoch 21, CIFAR-10 Batch 3:  Validation Accuracy: 52.460003% -  Cost: 1.0153809785842896\n",
      "Epoch 21, CIFAR-10 Batch 4:  Validation Accuracy: 53.079998% -  Cost: 1.1196190118789673\n",
      "Epoch 21, CIFAR-10 Batch 5:  Validation Accuracy: 51.899999% -  Cost: 1.0597319602966309\n",
      "Epoch 22, CIFAR-10 Batch 1:  Validation Accuracy: 52.48% -  Cost: 1.2388410568237305\n",
      "Epoch 22, CIFAR-10 Batch 2:  Validation Accuracy: 52.579999% -  Cost: 0.8838480114936829\n",
      "Epoch 22, CIFAR-10 Batch 3:  Validation Accuracy: 52.340001% -  Cost: 0.8938909769058228\n",
      "Epoch 22, CIFAR-10 Batch 4:  Validation Accuracy: 52.700001% -  Cost: 1.0576399564743042\n",
      "Epoch 22, CIFAR-10 Batch 5:  Validation Accuracy: 52.399999% -  Cost: 0.998553991317749\n",
      "Epoch 23, CIFAR-10 Batch 1:  Validation Accuracy: 53.039998% -  Cost: 1.1905039548873901\n",
      "Epoch 23, CIFAR-10 Batch 2:  Validation Accuracy: 52.920002% -  Cost: 0.8933759927749634\n",
      "Epoch 23, CIFAR-10 Batch 3:  Validation Accuracy: 52.600002% -  Cost: 0.9474329948425293\n",
      "Epoch 23, CIFAR-10 Batch 4:  Validation Accuracy: 52.8% -  Cost: 1.0683820247650146\n",
      "Epoch 23, CIFAR-10 Batch 5:  Validation Accuracy: 51.700002% -  Cost: 0.9925400018692017\n",
      "Epoch 24, CIFAR-10 Batch 1:  Validation Accuracy: 53.219998% -  Cost: 1.1534010171890259\n",
      "Epoch 24, CIFAR-10 Batch 2:  Validation Accuracy: 52.560002% -  Cost: 0.872439980506897\n",
      "Epoch 24, CIFAR-10 Batch 3:  Validation Accuracy: 52.679998% -  Cost: 0.9353920221328735\n",
      "Epoch 24, CIFAR-10 Batch 4:  Validation Accuracy: 53.460002% -  Cost: 1.042796015739441\n",
      "Epoch 24, CIFAR-10 Batch 5:  Validation Accuracy: 51.539999% -  Cost: 0.9459030032157898\n",
      "Epoch 25, CIFAR-10 Batch 1:  Validation Accuracy: 53.240001% -  Cost: 1.0984139442443848\n",
      "Epoch 25, CIFAR-10 Batch 2:  Validation Accuracy: 52.060002% -  Cost: 0.8200860023498535\n",
      "Epoch 25, CIFAR-10 Batch 3:  Validation Accuracy: 53.16% -  Cost: 0.8619549870491028\n",
      "Epoch 25, CIFAR-10 Batch 4:  Validation Accuracy: 53.02% -  Cost: 1.0423860549926758\n",
      "Epoch 25, CIFAR-10 Batch 5:  Validation Accuracy: 52.399999% -  Cost: 0.9217399954795837\n",
      "Epoch 26, CIFAR-10 Batch 1:  Validation Accuracy: 52.759999% -  Cost: 1.1490130424499512\n",
      "Epoch 26, CIFAR-10 Batch 2:  Validation Accuracy: 53.320003% -  Cost: 0.8460490107536316\n",
      "Epoch 26, CIFAR-10 Batch 3:  Validation Accuracy: 53.039998% -  Cost: 0.8282529711723328\n",
      "Epoch 26, CIFAR-10 Batch 4:  Validation Accuracy: 53.280002% -  Cost: 1.0591479539871216\n",
      "Epoch 26, CIFAR-10 Batch 5:  Validation Accuracy: 52.399999% -  Cost: 0.9365609884262085\n",
      "Epoch 27, CIFAR-10 Batch 1:  Validation Accuracy: 52.98% -  Cost: 1.0755480527877808\n",
      "Epoch 27, CIFAR-10 Batch 2:  Validation Accuracy: 52.819997% -  Cost: 0.8625530004501343\n",
      "Epoch 27, CIFAR-10 Batch 3:  Validation Accuracy: 52.200001% -  Cost: 0.8002730011940002\n",
      "Epoch 27, CIFAR-10 Batch 4:  Validation Accuracy: 53.380001% -  Cost: 1.0329519510269165\n",
      "Epoch 27, CIFAR-10 Batch 5:  Validation Accuracy: 52.039999% -  Cost: 0.9138060212135315\n",
      "Epoch 28, CIFAR-10 Batch 1:  Validation Accuracy: 52.939999% -  Cost: 1.06045401096344\n",
      "Epoch 28, CIFAR-10 Batch 2:  Validation Accuracy: 52.899998% -  Cost: 0.7940179705619812\n",
      "Epoch 28, CIFAR-10 Batch 3:  Validation Accuracy: 52.319998% -  Cost: 0.8767899870872498\n",
      "Epoch 28, CIFAR-10 Batch 4:  Validation Accuracy: 52.179998% -  Cost: 0.9999759793281555\n",
      "Epoch 28, CIFAR-10 Batch 5:  Validation Accuracy: 51.26% -  Cost: 0.9414669871330261\n",
      "Epoch 29, CIFAR-10 Batch 1:  Validation Accuracy: 52.920002% -  Cost: 1.027282953262329\n",
      "Epoch 29, CIFAR-10 Batch 2:  Validation Accuracy: 53.100002% -  Cost: 0.7805230021476746\n",
      "Epoch 29, CIFAR-10 Batch 3:  Validation Accuracy: 52.139997% -  Cost: 0.805446982383728\n",
      "Epoch 29, CIFAR-10 Batch 4:  Validation Accuracy: 52.560002% -  Cost: 1.0177760124206543\n",
      "Epoch 29, CIFAR-10 Batch 5:  Validation Accuracy: 52.48% -  Cost: 0.8617100119590759\n",
      "Epoch 30, CIFAR-10 Batch 1:  Validation Accuracy: 52.999997% -  Cost: 1.0064239501953125\n",
      "Epoch 30, CIFAR-10 Batch 2:  Validation Accuracy: 53.780001% -  Cost: 0.772907018661499\n",
      "Epoch 30, CIFAR-10 Batch 3:  Validation Accuracy: 52.600002% -  Cost: 0.760828971862793\n",
      "Epoch 30, CIFAR-10 Batch 4:  Validation Accuracy: 52.179998% -  Cost: 0.9728000164031982\n",
      "Epoch 30, CIFAR-10 Batch 5:  Validation Accuracy: 52.539998% -  Cost: 0.8325729966163635\n",
      "Epoch 31, CIFAR-10 Batch 1:  Validation Accuracy: 53.399998% -  Cost: 1.0018930435180664\n",
      "Epoch 31, CIFAR-10 Batch 2:  Validation Accuracy: 53.219998% -  Cost: 0.7193570137023926\n",
      "Epoch 31, CIFAR-10 Batch 3:  Validation Accuracy: 53.460002% -  Cost: 0.7238209843635559\n",
      "Epoch 31, CIFAR-10 Batch 4:  Validation Accuracy: 52.240002% -  Cost: 0.9666939973831177\n",
      "Epoch 31, CIFAR-10 Batch 5:  Validation Accuracy: 52.100003% -  Cost: 0.8523070216178894\n",
      "Epoch 32, CIFAR-10 Batch 1:  Validation Accuracy: 53.34% -  Cost: 1.0243929624557495\n",
      "Epoch 32, CIFAR-10 Batch 2:  Validation Accuracy: 53.299999% -  Cost: 0.767782986164093\n",
      "Epoch 32, CIFAR-10 Batch 3:  Validation Accuracy: 52.160001% -  Cost: 0.7675960063934326\n",
      "Epoch 32, CIFAR-10 Batch 4:  Validation Accuracy: 52.160001% -  Cost: 0.983942985534668\n",
      "Epoch 32, CIFAR-10 Batch 5:  Validation Accuracy: 52.560002% -  Cost: 0.8133620023727417\n",
      "Epoch 33, CIFAR-10 Batch 1:  Validation Accuracy: 51.880002% -  Cost: 0.9962300062179565\n",
      "Epoch 33, CIFAR-10 Batch 2:  Validation Accuracy: 53.280002% -  Cost: 0.7327899932861328\n",
      "Epoch 33, CIFAR-10 Batch 3:  Validation Accuracy: 51.959997% -  Cost: 0.7907810211181641\n",
      "Epoch 33, CIFAR-10 Batch 4:  Validation Accuracy: 51.800001% -  Cost: 0.9617319703102112\n",
      "Epoch 33, CIFAR-10 Batch 5:  Validation Accuracy: 53.320003% -  Cost: 0.8002690076828003\n",
      "Epoch 34, CIFAR-10 Batch 1:  Validation Accuracy: 52.759999% -  Cost: 0.9930179715156555\n",
      "Epoch 34, CIFAR-10 Batch 2:  Validation Accuracy: 52.62% -  Cost: 0.7043560147285461\n",
      "Epoch 34, CIFAR-10 Batch 3:  Validation Accuracy: 51.660001% -  Cost: 0.7828739881515503\n",
      "Epoch 34, CIFAR-10 Batch 4:  Validation Accuracy: 51.319999% -  Cost: 0.9345430135726929\n",
      "Epoch 34, CIFAR-10 Batch 5:  Validation Accuracy: 53.060001% -  Cost: 0.7692499756813049\n",
      "Epoch 35, CIFAR-10 Batch 1:  Validation Accuracy: 52.079999% -  Cost: 0.9703109860420227\n",
      "Epoch 35, CIFAR-10 Batch 2:  Validation Accuracy: 53.039998% -  Cost: 0.7177299857139587\n",
      "Epoch 35, CIFAR-10 Batch 3:  Validation Accuracy: 52.640003% -  Cost: 0.7129650115966797\n",
      "Epoch 35, CIFAR-10 Batch 4:  Validation Accuracy: 52.020001% -  Cost: 0.8882529735565186\n",
      "Epoch 35, CIFAR-10 Batch 5:  Validation Accuracy: 52.759999% -  Cost: 0.7309899926185608\n",
      "Epoch 36, CIFAR-10 Batch 1:  Validation Accuracy: 52.520001% -  Cost: 1.0016980171203613\n",
      "Epoch 36, CIFAR-10 Batch 2:  Validation Accuracy: 52.200001% -  Cost: 0.7281879782676697\n",
      "Epoch 36, CIFAR-10 Batch 3:  Validation Accuracy: 52.640003% -  Cost: 0.6856459975242615\n",
      "Epoch 36, CIFAR-10 Batch 4:  Validation Accuracy: 51.980001% -  Cost: 0.8742330074310303\n",
      "Epoch 36, CIFAR-10 Batch 5:  Validation Accuracy: 52.340001% -  Cost: 0.6982269883155823\n",
      "Epoch 37, CIFAR-10 Batch 1:  Validation Accuracy: 52.62% -  Cost: 0.941415011882782\n",
      "Epoch 37, CIFAR-10 Batch 2:  Validation Accuracy: 51.880002% -  Cost: 0.650439977645874\n",
      "Epoch 37, CIFAR-10 Batch 3:  Validation Accuracy: 52.48% -  Cost: 0.739641010761261\n",
      "Epoch 37, CIFAR-10 Batch 4:  Validation Accuracy: 51.980001% -  Cost: 0.8710209727287292\n",
      "Epoch 37, CIFAR-10 Batch 5:  Validation Accuracy: 52.780002% -  Cost: 0.6889860033988953\n",
      "Epoch 38, CIFAR-10 Batch 1:  Validation Accuracy: 52.859998% -  Cost: 0.951545000076294\n",
      "Epoch 38, CIFAR-10 Batch 2:  Validation Accuracy: 51.899999% -  Cost: 0.6788730025291443\n",
      "Epoch 38, CIFAR-10 Batch 3:  Validation Accuracy: 51.499999% -  Cost: 0.6755589842796326\n",
      "Epoch 38, CIFAR-10 Batch 4:  Validation Accuracy: 50.940001% -  Cost: 0.8660529851913452\n",
      "Epoch 38, CIFAR-10 Batch 5:  Validation Accuracy: 53.380001% -  Cost: 0.6410830020904541\n",
      "Epoch 39, CIFAR-10 Batch 1:  Validation Accuracy: 52.240002% -  Cost: 0.9767760038375854\n",
      "Epoch 39, CIFAR-10 Batch 2:  Validation Accuracy: 52.380002% -  Cost: 0.6790059804916382\n",
      "Epoch 39, CIFAR-10 Batch 3:  Validation Accuracy: 50.599998% -  Cost: 0.6844540238380432\n",
      "Epoch 39, CIFAR-10 Batch 4:  Validation Accuracy: 50.959998% -  Cost: 0.8595659732818604\n",
      "Epoch 39, CIFAR-10 Batch 5:  Validation Accuracy: 52.520001% -  Cost: 0.6723660230636597\n",
      "Epoch 40, CIFAR-10 Batch 1:  Validation Accuracy: 52.200001% -  Cost: 0.9639760255813599\n",
      "Epoch 40, CIFAR-10 Batch 2:  Validation Accuracy: 50.919998% -  Cost: 0.6547049880027771\n",
      "Epoch 40, CIFAR-10 Batch 3:  Validation Accuracy: 52.3% -  Cost: 0.6047040224075317\n",
      "Epoch 40, CIFAR-10 Batch 4:  Validation Accuracy: 51.859999% -  Cost: 0.8812159895896912\n",
      "Epoch 40, CIFAR-10 Batch 5:  Validation Accuracy: 52.359998% -  Cost: 0.6763079762458801\n",
      "Epoch 41, CIFAR-10 Batch 1:  Validation Accuracy: 51.719999% -  Cost: 0.9616870284080505\n",
      "Epoch 41, CIFAR-10 Batch 2:  Validation Accuracy: 51.26% -  Cost: 0.6652309894561768\n",
      "Epoch 41, CIFAR-10 Batch 3:  Validation Accuracy: 51.819998% -  Cost: 0.6162019968032837\n",
      "Epoch 41, CIFAR-10 Batch 4:  Validation Accuracy: 52.3% -  Cost: 0.8824650049209595\n",
      "Epoch 41, CIFAR-10 Batch 5:  Validation Accuracy: 52.499998% -  Cost: 0.6124839782714844\n",
      "Epoch 42, CIFAR-10 Batch 1:  Validation Accuracy: 51.700002% -  Cost: 0.9202669858932495\n",
      "Epoch 42, CIFAR-10 Batch 2:  Validation Accuracy: 52.499998% -  Cost: 0.6704789996147156\n",
      "Epoch 42, CIFAR-10 Batch 3:  Validation Accuracy: 51.94% -  Cost: 0.5644350051879883\n",
      "Epoch 42, CIFAR-10 Batch 4:  Validation Accuracy: 52.3% -  Cost: 0.8250089883804321\n",
      "Epoch 42, CIFAR-10 Batch 5:  Validation Accuracy: 52.340001% -  Cost: 0.6217269897460938\n",
      "Epoch 43, CIFAR-10 Batch 1:  Validation Accuracy: 52.319998% -  Cost: 0.9321039915084839\n",
      "Epoch 43, CIFAR-10 Batch 2:  Validation Accuracy: 51.179999% -  Cost: 0.6306059956550598\n",
      "Epoch 43, CIFAR-10 Batch 3:  Validation Accuracy: 51.840001% -  Cost: 0.5834190249443054\n",
      "Epoch 43, CIFAR-10 Batch 4:  Validation Accuracy: 52.12% -  Cost: 0.7818760275840759\n",
      "Epoch 43, CIFAR-10 Batch 5:  Validation Accuracy: 52.340001% -  Cost: 0.6139960289001465\n",
      "Epoch 44, CIFAR-10 Batch 1:  Validation Accuracy: 52.020001% -  Cost: 0.86598801612854\n",
      "Epoch 44, CIFAR-10 Batch 2:  Validation Accuracy: 50.700003% -  Cost: 0.6313049793243408\n",
      "Epoch 44, CIFAR-10 Batch 3:  Validation Accuracy: 52.12% -  Cost: 0.553184986114502\n",
      "Epoch 44, CIFAR-10 Batch 4:  Validation Accuracy: 51.779997% -  Cost: 0.7255880236625671\n",
      "Epoch 44, CIFAR-10 Batch 5:  Validation Accuracy: 52.319998% -  Cost: 0.6338070034980774\n",
      "Epoch 45, CIFAR-10 Batch 1:  Validation Accuracy: 51.840001% -  Cost: 0.888733983039856\n",
      "Epoch 45, CIFAR-10 Batch 2:  Validation Accuracy: 51.139998% -  Cost: 0.6219159960746765\n",
      "Epoch 45, CIFAR-10 Batch 3:  Validation Accuracy: 50.999999% -  Cost: 0.5846009850502014\n",
      "Epoch 45, CIFAR-10 Batch 4:  Validation Accuracy: 51.980001% -  Cost: 0.7906360030174255\n",
      "Epoch 45, CIFAR-10 Batch 5:  Validation Accuracy: 52.44% -  Cost: 0.628866970539093\n",
      "Epoch 46, CIFAR-10 Batch 1:  Validation Accuracy: 52.560002% -  Cost: 0.8089780211448669\n",
      "Epoch 46, CIFAR-10 Batch 2:  Validation Accuracy: 52.420002% -  Cost: 0.5979819893836975\n",
      "Epoch 46, CIFAR-10 Batch 3:  Validation Accuracy: 51.139998% -  Cost: 0.5694360136985779\n",
      "Epoch 46, CIFAR-10 Batch 4:  Validation Accuracy: 52.020001% -  Cost: 0.7474570274353027\n",
      "Epoch 46, CIFAR-10 Batch 5:  Validation Accuracy: 52.62% -  Cost: 0.5948230028152466\n",
      "Epoch 47, CIFAR-10 Batch 1:  Validation Accuracy: 52.359998% -  Cost: 0.8320590257644653\n",
      "Epoch 47, CIFAR-10 Batch 2:  Validation Accuracy: 51.58% -  Cost: 0.6099519729614258\n",
      "Epoch 47, CIFAR-10 Batch 3:  Validation Accuracy: 51.08% -  Cost: 0.5222300291061401\n",
      "Epoch 47, CIFAR-10 Batch 4:  Validation Accuracy: 52.780002% -  Cost: 0.7299439907073975\n",
      "Epoch 47, CIFAR-10 Batch 5:  Validation Accuracy: 52.420002% -  Cost: 0.5586079955101013\n",
      "Epoch 48, CIFAR-10 Batch 1:  Validation Accuracy: 52.66% -  Cost: 0.8114290237426758\n",
      "Epoch 48, CIFAR-10 Batch 2:  Validation Accuracy: 50.959998% -  Cost: 0.6169700026512146\n",
      "Epoch 48, CIFAR-10 Batch 3:  Validation Accuracy: 50.779998% -  Cost: 0.49989500641822815\n",
      "Epoch 48, CIFAR-10 Batch 4:  Validation Accuracy: 52.219999% -  Cost: 0.7342510223388672\n",
      "Epoch 48, CIFAR-10 Batch 5:  Validation Accuracy: 52.3% -  Cost: 0.5635960102081299\n",
      "Epoch 49, CIFAR-10 Batch 1:  Validation Accuracy: 51.800001% -  Cost: 0.7796109914779663\n",
      "Epoch 49, CIFAR-10 Batch 2:  Validation Accuracy: 52.600002% -  Cost: 0.5810509920120239\n",
      "Epoch 49, CIFAR-10 Batch 3:  Validation Accuracy: 51.800001% -  Cost: 0.4869210124015808\n",
      "Epoch 49, CIFAR-10 Batch 4:  Validation Accuracy: 52.48% -  Cost: 0.7293999791145325\n",
      "Epoch 49, CIFAR-10 Batch 5:  Validation Accuracy: 53.100002% -  Cost: 0.5773000121116638\n",
      "Epoch 50, CIFAR-10 Batch 1:  Validation Accuracy: 51.679999% -  Cost: 0.833141028881073\n",
      "Epoch 50, CIFAR-10 Batch 2:  Validation Accuracy: 53.420001% -  Cost: 0.5585939884185791\n",
      "Epoch 50, CIFAR-10 Batch 3:  Validation Accuracy: 52.960002% -  Cost: 0.46546700596809387\n",
      "Epoch 50, CIFAR-10 Batch 4:  Validation Accuracy: 51.859999% -  Cost: 0.6756749749183655\n",
      "Epoch 50, CIFAR-10 Batch 5:  Validation Accuracy: 52.499998% -  Cost: 0.5898110270500183\n"
     ]
    }
   ],
   "source": [
    "\"\"\"\n",
    "DON'T MODIFY ANYTHING IN THIS CELL\n",
    "\"\"\"\n",
    "save_model_path = './image_classification'\n",
    "\n",
    "print('Training...')\n",
    "with tf.Session() as sess:\n",
    "    # Initializing the variables\n",
    "    sess.run(tf.global_variables_initializer())\n",
    "    \n",
    "    # Training cycle\n",
    "    for epoch in range(epochs):\n",
    "        # Loop over all batches\n",
    "        n_batches = 5\n",
    "        for batch_i in range(1, n_batches + 1):\n",
    "            for batch_features, batch_labels in helper.load_preprocess_training_batch(batch_i, batch_size):\n",
    "                train_neural_network(sess, optimizer, keep_probability, batch_features, batch_labels)\n",
    "            print('Epoch {:>2}, CIFAR-10 Batch {}:  '.format(epoch + 1, batch_i), end='')\n",
    "            print_stats(sess, batch_features, batch_labels, cost, accuracy)\n",
    "            \n",
    "    # Save Model\n",
    "    saver = tf.train.Saver()\n",
    "    save_path = saver.save(sess, save_model_path)"
   ]
  },
  {
   "cell_type": "markdown",
   "metadata": {
    "deletable": true,
    "editable": true
   },
   "source": [
    "# Checkpoint\n",
    "The model has been saved to disk.\n",
    "## Test Model\n",
    "Test your model against the test dataset.  This will be your final accuracy. You should have an accuracy greater than 50%. If you don't, keep tweaking the model architecture and parameters."
   ]
  },
  {
   "cell_type": "code",
   "execution_count": 45,
   "metadata": {
    "collapsed": false,
    "deletable": true,
    "editable": true
   },
   "outputs": [
    {
     "name": "stdout",
     "output_type": "stream",
     "text": [
      "Testing Accuracy: 0.5235999962687492\n",
      "\n"
     ]
    },
    {
     "data": {
      "image/png": "[encoded data removed]",
      "text/plain": [
       "<matplotlib.figure.Figure at 0x7fdf23d217b8>"
      ]
     },
     "metadata": {
      "image/png": {
       "height": 319,
       "width": 355
      }
     },
     "output_type": "display_data"
    }
   ],
   "source": [
    "\"\"\"\n",
    "DON'T MODIFY ANYTHING IN THIS CELL\n",
    "\"\"\"\n",
    "%matplotlib inline\n",
    "%config InlineBackend.figure_format = 'retina'\n",
    "\n",
    "import tensorflow as tf\n",
    "import pickle\n",
    "import helper\n",
    "import random\n",
    "\n",
    "# Set batch size if not already set\n",
    "try:\n",
    "    if batch_size:\n",
    "        pass\n",
    "except NameError:\n",
    "    batch_size = 64\n",
    "\n",
    "save_model_path = './image_classification'\n",
    "n_samples = 4\n",
    "top_n_predictions = 3\n",
    "\n",
    "def test_model():\n",
    "    \"\"\"\n",
    "    Test the saved model against the test dataset\n",
    "    \"\"\"\n",
    "\n",
    "    test_features, test_labels = pickle.load(open('preprocess_training.p', mode='rb'))\n",
    "    loaded_graph = tf.Graph()\n",
    "\n",
    "    with tf.Session(graph=loaded_graph) as sess:\n",
    "        # Load model\n",
    "        loader = tf.train.import_meta_graph(save_model_path + '.meta')\n",
    "        loader.restore(sess, save_model_path)\n",
    "\n",
    "        # Get Tensors from loaded model\n",
    "        loaded_x = loaded_graph.get_tensor_by_name('x:0')\n",
    "        loaded_y = loaded_graph.get_tensor_by_name('y:0')\n",
    "        loaded_keep_prob = loaded_graph.get_tensor_by_name('keep_prob:0')\n",
    "        loaded_logits = loaded_graph.get_tensor_by_name('logits:0')\n",
    "        loaded_acc = loaded_graph.get_tensor_by_name('accuracy:0')\n",
    "        \n",
    "        # Get accuracy in batches for memory limitations\n",
    "        test_batch_acc_total = 0\n",
    "        test_batch_count = 0\n",
    "        \n",
    "        for train_feature_batch, train_label_batch in helper.batch_features_labels(test_features, test_labels, batch_size):\n",
    "            test_batch_acc_total += sess.run(\n",
    "                loaded_acc,\n",
    "                feed_dict={loaded_x: train_feature_batch, loaded_y: train_label_batch, loaded_keep_prob: 1.0})\n",
    "            test_batch_count += 1\n",
    "\n",
    "        print('Testing Accuracy: {}\\n'.format(test_batch_acc_total/test_batch_count))\n",
    "\n",
    "        # Print Random Samples\n",
    "        random_test_features, random_test_labels = tuple(zip(*random.sample(list(zip(test_features, test_labels)), n_samples)))\n",
    "        random_test_predictions = sess.run(\n",
    "            tf.nn.top_k(tf.nn.softmax(loaded_logits), top_n_predictions),\n",
    "            feed_dict={loaded_x: random_test_features, loaded_y: random_test_labels, loaded_keep_prob: 1.0})\n",
    "        helper.display_image_predictions(random_test_features, random_test_labels, random_test_predictions)\n",
    "\n",
    "\n",
    "test_model()"
   ]
  },
  {
   "cell_type": "markdown",
   "metadata": {
    "deletable": true,
    "editable": true
   },
   "source": [
    "## Why 50-80% Accuracy?\n",
    "You might be wondering why you can't get an accuracy any higher. First things first, 50% isn't bad for a simple CNN.  Pure guessing would get you 10% accuracy. However, you might notice people are getting scores [well above 80%](http://rodrigob.github.io/are_we_there_yet/build/classification_datasets_results.html#43494641522d3130).  That's because we haven't taught you all there is to know about neural networks. We still need to cover a few more techniques.\n",
    "## Submitting This Project\n",
    "When submitting this project, make sure to run all the cells before saving the notebook.  Save the notebook file as \"dlnd_image_classification.ipynb\" and save it as a HTML file under \"File\" -> \"Download as\".  Include the \"helper.py\" and \"problem_unittests.py\" files in your submission."
   ]
  }
 ],
 "metadata": {
  "kernelspec": {
   "display_name": "Python 3",
   "language": "python",
   "name": "python3"
  },
  "language_info": {
   "codemirror_mode": {
    "name": "ipython",
    "version": 3
   },
   "file_extension": ".py",
   "mimetype": "text/x-python",
   "name": "python",
   "nbconvert_exporter": "python",
   "pygments_lexer": "ipython3",
   "version": "3.5.3"
  }
 },
 "nbformat": 4,
 "nbformat_minor": 0
}
