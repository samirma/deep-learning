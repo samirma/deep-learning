{
 "cells": [
  {
   "cell_type": "markdown",
   "metadata": {
    "collapsed": true
   },
   "source": [
    "# Image Classification\n",
    "In this project, you'll classify images from the [CIFAR-10 dataset](https://www.cs.toronto.edu/~kriz/cifar.html).  The dataset consists of airplanes, dogs, cats, and other objects. You'll preprocess the images, then train a convolutional neural network on all the samples. The images need to be normalized and the labels need to be one-hot encoded.  You'll get to apply what you learned and build a convolutional, max pooling, dropout, and fully connected layers.  At the end, you'll get to see your neural network's predictions on the sample images.\n",
    "## Get the Data\n",
    "Run the following cell to download the [CIFAR-10 dataset for python](https://www.cs.toronto.edu/~kriz/cifar-10-python.tar.gz)."
   ]
  },
  {
   "cell_type": "code",
   "execution_count": 2,
   "metadata": {
    "collapsed": false
   },
   "outputs": [
    {
     "name": "stdout",
     "output_type": "stream",
     "text": [
      "All files found!\n"
     ]
    }
   ],
   "source": [
    "\"\"\"\n",
    "DON'T MODIFY ANYTHING IN THIS CELL THAT IS BELOW THIS LINE\n",
    "\"\"\"\n",
    "from urllib.request import urlretrieve\n",
    "from os.path import isfile, isdir\n",
    "from tqdm import tqdm\n",
    "import problem_unittests as tests\n",
    "import tarfile\n",
    "\n",
    "cifar10_dataset_folder_path = 'cifar-10-batches-py'\n",
    "\n",
    "# Use Floyd's cifar-10 dataset if present\n",
    "floyd_cifar10_location = '/input/cifar-10/python.tar.gz'\n",
    "if isfile(floyd_cifar10_location):\n",
    "    tar_gz_path = floyd_cifar10_location\n",
    "else:\n",
    "    tar_gz_path = 'cifar-10-python.tar.gz'\n",
    "\n",
    "class DLProgress(tqdm):\n",
    "    last_block = 0\n",
    "\n",
    "    def hook(self, block_num=1, block_size=1, total_size=None):\n",
    "        self.total = total_size\n",
    "        self.update((block_num - self.last_block) * block_size)\n",
    "        self.last_block = block_num\n",
    "\n",
    "if not isfile(tar_gz_path):\n",
    "    with DLProgress(unit='B', unit_scale=True, miniters=1, desc='CIFAR-10 Dataset') as pbar:\n",
    "        urlretrieve(\n",
    "            'https://www.cs.toronto.edu/~kriz/cifar-10-python.tar.gz',\n",
    "            tar_gz_path,\n",
    "            pbar.hook)\n",
    "\n",
    "if not isdir(cifar10_dataset_folder_path):\n",
    "    with tarfile.open(tar_gz_path) as tar:\n",
    "        tar.extractall()\n",
    "        tar.close()\n",
    "\n",
    "\n",
    "tests.test_folder_path(cifar10_dataset_folder_path)"
   ]
  },
  {
   "cell_type": "markdown",
   "metadata": {},
   "source": [
    "## Explore the Data\n",
    "The dataset is broken into batches to prevent your machine from running out of memory.  The CIFAR-10 dataset consists of 5 batches, named `data_batch_1`, `data_batch_2`, etc.. Each batch contains the labels and images that are one of the following:\n",
    "* airplane\n",
    "* automobile\n",
    "* bird\n",
    "* cat\n",
    "* deer\n",
    "* dog\n",
    "* frog\n",
    "* horse\n",
    "* ship\n",
    "* truck\n",
    "\n",
    "Understanding a dataset is part of making predictions on the data.  Play around with the code cell below by changing the `batch_id` and `sample_id`. The `batch_id` is the id for a batch (1-5). The `sample_id` is the id for a image and label pair in the batch.\n",
    "\n",
    "Ask yourself \"What are all possible labels?\", \"What is the range of values for the image data?\", \"Are the labels in order or random?\".  Answers to questions like these will help you preprocess the data and end up with better predictions."
   ]
  },
  {
   "cell_type": "code",
   "execution_count": 3,
   "metadata": {
    "collapsed": false
   },
   "outputs": [
    {
     "name": "stdout",
     "output_type": "stream",
     "text": [
      "\n",
      "Stats of batch 1:\n",
      "Samples: 10000\n",
      "Label Counts: {0: 1005, 1: 974, 2: 1032, 3: 1016, 4: 999, 5: 937, 6: 1030, 7: 1001, 8: 1025, 9: 981}\n",
      "First 20 Labels: [6, 9, 9, 4, 1, 1, 2, 7, 8, 3, 4, 7, 7, 2, 9, 9, 9, 3, 2, 6]\n",
      "\n",
      "Example of Image 5:\n",
      "Image - Min Value: 0 Max Value: 252\n",
      "Image - Shape: (32, 32, 3)\n",
      "Label - Label Id: 1 Name: automobile\n"
     ]
    },
    {
     "data": {
      "image/png": "[encoded data removed]",
      "text/plain": [
       "<matplotlib.figure.Figure at 0x11ab131d0>"
      ]
     },
     "metadata": {
      "image/png": {
       "height": 250,
       "width": 253
      }
     },
     "output_type": "display_data"
    }
   ],
   "source": [
    "%matplotlib inline\n",
    "%config InlineBackend.figure_format = 'retina'\n",
    "\n",
    "import helper\n",
    "import numpy as np\n",
    "\n",
    "# Explore the dataset\n",
    "batch_id = 1\n",
    "sample_id = 5\n",
    "helper.display_stats(cifar10_dataset_folder_path, batch_id, sample_id)"
   ]
  },
  {
   "cell_type": "markdown",
   "metadata": {},
   "source": [
    "## Implement Preprocess Functions\n",
    "### Normalize\n",
    "In the cell below, implement the `normalize` function to take in image data, `x`, and return it as a normalized Numpy array. The values should be in the range of 0 to 1, inclusive.  The return object should be the same shape as `x`."
   ]
  },
  {
   "cell_type": "code",
   "execution_count": 4,
   "metadata": {
    "collapsed": false
   },
   "outputs": [
    {
     "name": "stdout",
     "output_type": "stream",
     "text": [
      "Tests Passed\n"
     ]
    }
   ],
   "source": [
    "def normalize(x):\n",
    "    \"\"\"\n",
    "    Normalize a list of sample image data in the range of 0 to 1\n",
    "    : x: List of image data.  The image shape is (32, 32, 3)\n",
    "    : return: Numpy array of normalize data\n",
    "    \"\"\"\n",
    "    # TODO: Implement Function\n",
    "    return np.array(x, dtype=\"float\") / 255.0\n",
    "\n",
    "\n",
    "\"\"\"\n",
    "DON'T MODIFY ANYTHING IN THIS CELL THAT IS BELOW THIS LINE\n",
    "\"\"\"\n",
    "tests.test_normalize(normalize)"
   ]
  },
  {
   "cell_type": "markdown",
   "metadata": {},
   "source": [
    "### One-hot encode\n",
    "Just like the previous code cell, you'll be implementing a function for preprocessing.  This time, you'll implement the `one_hot_encode` function. The input, `x`, are a list of labels.  Implement the function to return the list of labels as One-Hot encoded Numpy array.  The possible values for labels are 0 to 9. The one-hot encoding function should return the same encoding for each value between each call to `one_hot_encode`.  Make sure to save the map of encodings outside the function.\n",
    "\n",
    "Hint: Don't reinvent the wheel."
   ]
  },
  {
   "cell_type": "code",
   "execution_count": 5,
   "metadata": {
    "collapsed": false
   },
   "outputs": [
    {
     "name": "stdout",
     "output_type": "stream",
     "text": [
      "Tests Passed\n"
     ]
    }
   ],
   "source": [
    "def one_hot_encode(x):\n",
    "    \"\"\"\n",
    "    One hot encode a list of sample labels. Return a one-hot encoded vector for each label.\n",
    "    : x: List of sample Labels\n",
    "    : return: Numpy array of one-hot encoded labels\n",
    "    \"\"\"\n",
    "    num_classes = 10\n",
    "\n",
    "    result = np.zeros(shape=(len(x), num_classes))\n",
    "    result[np.arange(len(x)), x] = 1\n",
    "    one_hot_encode = result.astype(int)\n",
    "    return one_hot_encode\n",
    "\n",
    "\n",
    "\"\"\"\n",
    "DON'T MODIFY ANYTHING IN THIS CELL THAT IS BELOW THIS LINE\n",
    "\"\"\"\n",
    "tests.test_one_hot_encode(one_hot_encode)"
   ]
  },
  {
   "cell_type": "markdown",
   "metadata": {},
   "source": [
    "### Randomize Data\n",
    "As you saw from exploring the data above, the order of the samples are randomized.  It doesn't hurt to randomize it again, but you don't need to for this dataset."
   ]
  },
  {
   "cell_type": "markdown",
   "metadata": {},
   "source": [
    "## Preprocess all the data and save it\n",
    "Running the code cell below will preprocess all the CIFAR-10 data and save it to file. The code below also uses 10% of the training data for validation."
   ]
  },
  {
   "cell_type": "code",
   "execution_count": 6,
   "metadata": {
    "collapsed": true
   },
   "outputs": [],
   "source": [
    "\"\"\"\n",
    "DON'T MODIFY ANYTHING IN THIS CELL\n",
    "\"\"\"\n",
    "# Preprocess Training, Validation, and Testing Data\n",
    "helper.preprocess_and_save_data(cifar10_dataset_folder_path, normalize, one_hot_encode)"
   ]
  },
  {
   "cell_type": "markdown",
   "metadata": {},
   "source": [
    "# Check Point\n",
    "This is your first checkpoint.  If you ever decide to come back to this notebook or have to restart the notebook, you can start from here.  The preprocessed data has been saved to disk."
   ]
  },
  {
   "cell_type": "code",
   "execution_count": 7,
   "metadata": {
    "collapsed": false
   },
   "outputs": [],
   "source": [
    "\"\"\"\n",
    "DON'T MODIFY ANYTHING IN THIS CELL\n",
    "\"\"\"\n",
    "import pickle\n",
    "import problem_unittests as tests\n",
    "import helper\n",
    "\n",
    "# Load the Preprocessed Validation data\n",
    "valid_features, valid_labels = pickle.load(open('preprocess_validation.p', mode='rb'))"
   ]
  },
  {
   "cell_type": "markdown",
   "metadata": {},
   "source": [
    "## Build the network\n",
    "For the neural network, you'll build each layer into a function.  Most of the code you've seen has been outside of functions. To test your code more thoroughly, we require that you put each layer in a function.  This allows us to give you better feedback and test for simple mistakes using our unittests before you submit your project.\n",
    "\n",
    "If you're finding it hard to dedicate enough time for this course a week, we've provided a small shortcut to this part of the project. In the next couple of problems, you'll have the option to use [TensorFlow Layers](https://www.tensorflow.org/api_docs/python/tf/layers) or [TensorFlow Layers (contrib)](https://www.tensorflow.org/api_guides/python/contrib.layers) to build each layer, except \"Convolutional & Max Pooling\" layer.  TF Layers is similar to Keras's and TFLearn's abstraction to layers, so it's easy to pickup.\n",
    "\n",
    "If you would like to get the most of this course, try to solve all the problems without TF Layers.  Let's begin!\n",
    "### Input\n",
    "The neural network needs to read the image data, one-hot encoded labels, and dropout keep probability. Implement the following functions\n",
    "* Implement `neural_net_image_input`\n",
    " * Return a [TF Placeholder](https://www.tensorflow.org/api_docs/python/tf/placeholder)\n",
    " * Set the shape using `image_shape` with batch size set to `None`.\n",
    " * Name the TensorFlow placeholder \"x\" using the TensorFlow `name` parameter in the [TF Placeholder](https://www.tensorflow.org/api_docs/python/tf/placeholder).\n",
    "* Implement `neural_net_label_input`\n",
    " * Return a [TF Placeholder](https://www.tensorflow.org/api_docs/python/tf/placeholder)\n",
    " * Set the shape using `n_classes` with batch size set to `None`.\n",
    " * Name the TensorFlow placeholder \"y\" using the TensorFlow `name` parameter in the [TF Placeholder](https://www.tensorflow.org/api_docs/python/tf/placeholder).\n",
    "* Implement `neural_net_keep_prob_input`\n",
    " * Return a [TF Placeholder](https://www.tensorflow.org/api_docs/python/tf/placeholder) for dropout keep probability.\n",
    " * Name the TensorFlow placeholder \"keep_prob\" using the TensorFlow `name` parameter in the [TF Placeholder](https://www.tensorflow.org/api_docs/python/tf/placeholder).\n",
    "\n",
    "These names will be used at the end of the project to load your saved model.\n",
    "\n",
    "Note: `None` for shapes in TensorFlow allow for a dynamic size."
   ]
  },
  {
   "cell_type": "code",
   "execution_count": 8,
   "metadata": {
    "collapsed": false
   },
   "outputs": [
    {
     "name": "stdout",
     "output_type": "stream",
     "text": [
      "Image Input Tests Passed.\n",
      "Label Input Tests Passed.\n",
      "Keep Prob Tests Passed.\n"
     ]
    }
   ],
   "source": [
    "import tensorflow as tf\n",
    "\n",
    "def neural_net_image_input(image_shape):\n",
    "    \"\"\"\n",
    "    Return a Tensor for a bach of image input\n",
    "    : image_shape: Shape of the images\n",
    "    : return: Tensor for image input.\n",
    "    \"\"\"\n",
    "    # TODO: Implement Function\n",
    "    x = tf.placeholder(\"float\", [None, image_shape[0], image_shape[1], image_shape[2]], name='x')\n",
    "    return x\n",
    "\n",
    "\n",
    "def neural_net_label_input(n_classes):\n",
    "    \"\"\"\n",
    "    Return a Tensor for a batch of label input\n",
    "    : n_classes: Number of classes\n",
    "    : return: Tensor for label input.\n",
    "    \"\"\"\n",
    "    # TODO: Implement Function\n",
    "    y = tf.placeholder(\"float\", [None, n_classes], name='y')\n",
    "    return y\n",
    "\n",
    "\n",
    "def neural_net_keep_prob_input():\n",
    "    \"\"\"\n",
    "    Return a Tensor for keep probability\n",
    "    : return: Tensor for keep probability.\n",
    "    \"\"\"\n",
    "    return tf.placeholder(tf.float32, shape=None, name='keep_prob')\n",
    "    return prop\n",
    "\n",
    "\n",
    "\"\"\"\n",
    "DON'T MODIFY ANYTHING IN THIS CELL THAT IS BELOW THIS LINE\n",
    "\"\"\"\n",
    "tf.reset_default_graph()\n",
    "tests.test_nn_image_inputs(neural_net_image_input)\n",
    "tests.test_nn_label_inputs(neural_net_label_input)\n",
    "tests.test_nn_keep_prob_inputs(neural_net_keep_prob_input)"
   ]
  },
  {
   "cell_type": "markdown",
   "metadata": {},
   "source": [
    "### Convolution and Max Pooling Layer\n",
    "Convolution layers have a lot of success with images. For this code cell, you should implement the function `conv2d_maxpool` to apply convolution then max pooling:\n",
    "* Create the weight and bias using `conv_ksize`, `conv_num_outputs` and the shape of `x_tensor`.\n",
    "* Apply a convolution to `x_tensor` using weight and `conv_strides`.\n",
    " * We recommend you use same padding, but you're welcome to use any padding.\n",
    "* Add bias\n",
    "* Add a nonlinear activation to the convolution.\n",
    "* Apply Max Pooling using `pool_ksize` and `pool_strides`.\n",
    " * We recommend you use same padding, but you're welcome to use any padding.\n",
    "\n",
    "Note: You **can't** use [TensorFlow Layers](https://www.tensorflow.org/api_docs/python/tf/layers) or [TensorFlow Layers (contrib)](https://www.tensorflow.org/api_guides/python/contrib.layers) for this layer.  You're free to use any TensorFlow package for all the other layers."
   ]
  },
  {
   "cell_type": "code",
   "execution_count": 9,
   "metadata": {
    "collapsed": false
   },
   "outputs": [
    {
     "name": "stdout",
     "output_type": "stream",
     "text": [
      "Tests Passed\n"
     ]
    }
   ],
   "source": [
    "def conv2d_maxpool(x_tensor, conv_num_outputs, conv_ksize, conv_strides, pool_ksize, pool_strides):   \n",
    "    \"\"\"\n",
    "    Apply convolution then max pooling to x_tensor\n",
    "    :param x_tensor: TensorFlow Tensor\n",
    "    :param conv_num_outputs: Number of outputs for the convolutional layer\n",
    "    :param conv_strides: Stride 2-D Tuple for convolution\n",
    "    :param pool_ksize: kernal size 2-D Tuple for pool\n",
    "    :param pool_strides: Stride 2-D Tuple for pool\n",
    "    : return: A tensor that represents convolution and max pooling of x_tensor\n",
    "    \"\"\"\n",
    "    # TODO: Implement Function\n",
    "    # Weight and bias\n",
    "    \n",
    "    shapes = x_tensor.get_shape().as_list()\n",
    "    \n",
    "    filter = shapes[1:] + [conv_num_outputs]\n",
    "    \n",
    "    #weights = tf.Variable(tf.random_normal(filter)) \n",
    "    weights = tf.Variable(tf.truncated_normal((8, 8, shapes[3], conv_num_outputs))) \n",
    "    \n",
    "    bias = tf.Variable(tf.zeros(conv_num_outputs))\n",
    "    \n",
    "    strides = [1, *conv_strides, 1]\n",
    "    \n",
    "    # Apply Convolution\n",
    "    conv_layer = tf.nn.conv2d(input=x_tensor, filter=weights, strides=strides, padding='SAME')\n",
    "    # Add bias\n",
    "    conv_layer = tf.nn.bias_add(conv_layer, bias)\n",
    "  \n",
    "    # Apply activation function\n",
    "    conv_layer = tf.nn.relu(conv_layer)\n",
    "\n",
    "    conv_layer = tf.nn.max_pool(conv_layer, [1, *pool_ksize, 1], strides=[1, *pool_strides, 1], padding='SAME')\n",
    "    \n",
    "    return conv_layer \n",
    "\n",
    "\n",
    "\"\"\"\n",
    "DON'T MODIFY ANYTHING IN THIS CELL THAT IS BELOW THIS LINE\n",
    "\"\"\"\n",
    "tests.test_con_pool(conv2d_maxpool)"
   ]
  },
  {
   "cell_type": "markdown",
   "metadata": {},
   "source": [
    "### Flatten Layer\n",
    "Implement the `flatten` function to change the dimension of `x_tensor` from a 4-D tensor to a 2-D tensor.  The output should be the shape (*Batch Size*, *Flattened Image Size*). You can use [TensorFlow Layers](https://www.tensorflow.org/api_docs/python/tf/layers) or [TensorFlow Layers (contrib)](https://www.tensorflow.org/api_guides/python/contrib.layers) for this layer."
   ]
  },
  {
   "cell_type": "code",
   "execution_count": 10,
   "metadata": {
    "collapsed": false
   },
   "outputs": [
    {
     "name": "stdout",
     "output_type": "stream",
     "text": [
      "Tests Passed\n"
     ]
    }
   ],
   "source": [
    "def flatten(x_tensor):\n",
    "    \"\"\"\n",
    "    Flatten x_tensor to (Batch Size, Flattened Image Size)\n",
    "    : x_tensor: A tensor of size (Batch Size, ...), where ... are the image dimensions.\n",
    "    : return: A tensor of size (Batch Size, Flattened Image Size).\n",
    "    \"\"\"\n",
    "    # TODO: Implement Function\n",
    "    flattened = tf.contrib.layers.flatten(x_tensor)\n",
    "    return  flattened\n",
    "\n",
    "\n",
    "\n",
    "\"\"\"\n",
    "DON'T MODIFY ANYTHING IN THIS CELL THAT IS BELOW THIS LINE\n",
    "\"\"\"\n",
    "tests.test_flatten(flatten)"
   ]
  },
  {
   "cell_type": "markdown",
   "metadata": {},
   "source": [
    "### Fully-Connected Layer\n",
    "Implement the `fully_conn` function to apply a fully connected layer to `x_tensor` with the shape (*Batch Size*, *num_outputs*). You can use [TensorFlow Layers](https://www.tensorflow.org/api_docs/python/tf/layers) or [TensorFlow Layers (contrib)](https://www.tensorflow.org/api_guides/python/contrib.layers) for this layer."
   ]
  },
  {
   "cell_type": "code",
   "execution_count": 11,
   "metadata": {
    "collapsed": false
   },
   "outputs": [
    {
     "name": "stdout",
     "output_type": "stream",
     "text": [
      "Tests Passed\n"
     ]
    }
   ],
   "source": [
    "def fully_conn(x_tensor, num_outputs):\n",
    "    \"\"\"\n",
    "    Apply a fully connected layer to x_tensor using weight and bias\n",
    "    : x_tensor: A 2-D tensor where the first dimension is batch size.\n",
    "    : num_outputs: The number of output that the new tensor should be.\n",
    "    : return: A 2-D tensor where the second dimension is num_outputs.\n",
    "    \"\"\"\n",
    "    # TODO: Implement Function\n",
    "    return tf.layers.dense(inputs=x_tensor, units=num_outputs, activation=tf.nn.relu)\n",
    "    #return tf.layers.dense(inputs=x_tensor, units=num_outputs)\n",
    "\n",
    "\n",
    "\"\"\"\n",
    "DON'T MODIFY ANYTHING IN THIS CELL THAT IS BELOW THIS LINE\n",
    "\"\"\"\n",
    "tests.test_fully_conn(fully_conn)"
   ]
  },
  {
   "cell_type": "markdown",
   "metadata": {},
   "source": [
    "### Output Layer\n",
    "Implement the `output` function to apply a fully connected layer to `x_tensor` with the shape (*Batch Size*, *num_outputs*). You can use [TensorFlow Layers](https://www.tensorflow.org/api_docs/python/tf/layers) or [TensorFlow Layers (contrib)](https://www.tensorflow.org/api_guides/python/contrib.layers) for this layer.\n",
    "\n",
    "Note: Activation, softmax, or cross entropy shouldn't be applied to this."
   ]
  },
  {
   "cell_type": "code",
   "execution_count": 12,
   "metadata": {
    "collapsed": false
   },
   "outputs": [
    {
     "name": "stdout",
     "output_type": "stream",
     "text": [
      "Tests Passed\n"
     ]
    }
   ],
   "source": [
    "def output(x_tensor, num_outputs):\n",
    "    \"\"\"\n",
    "    Apply a output layer to x_tensor using weight and bias\n",
    "    : x_tensor: A 2-D tensor where the first dimension is batch size.\n",
    "    : num_outputs: The number of output that the new tensor should be.\n",
    "    : return: A 2-D tensor where the second dimension is num_outputs.\n",
    "    \"\"\"\n",
    "    # TODO: Implement Function\n",
    "    return tf.layers.dense(inputs=x_tensor, units=num_outputs)\n",
    "\n",
    "\n",
    "\n",
    "\"\"\"\n",
    "DON'T MODIFY ANYTHING IN THIS CELL THAT IS BELOW THIS LINE\n",
    "\"\"\"\n",
    "tests.test_output(output)"
   ]
  },
  {
   "cell_type": "markdown",
   "metadata": {},
   "source": [
    "### Create Convolutional Model\n",
    "Implement the function `conv_net` to create a convolutional neural network model. The function takes in a batch of images, `x`, and outputs logits.  Use the layers you created above to create this model:\n",
    "\n",
    "* Apply 1, 2, or 3 Convolution and Max Pool layers\n",
    "* Apply a Flatten Layer\n",
    "* Apply 1, 2, or 3 Fully Connected Layers\n",
    "* Apply an Output Layer\n",
    "* Return the output\n",
    "* Apply [TensorFlow's Dropout](https://www.tensorflow.org/api_docs/python/tf/nn/dropout) to one or more layers in the model using `keep_prob`. "
   ]
  },
  {
   "cell_type": "code",
   "execution_count": 13,
   "metadata": {
    "collapsed": false
   },
   "outputs": [
    {
     "name": "stdout",
     "output_type": "stream",
     "text": [
      "Neural Network Built!\n"
     ]
    }
   ],
   "source": [
    "def conv_net(x, keep_prob):\n",
    "    \"\"\"\n",
    "    Create a convolutional neural network model\n",
    "    : x: Placeholder tensor that holds image data.\n",
    "    : keep_prob: Placeholder tensor that hold dropout keep probability.\n",
    "    : return: Tensor that represents logits\n",
    "    \"\"\"\n",
    "    # TODO: Apply 1, 2, or 3 Convolution and Max Pool layers\n",
    "    #    Play around with different number of outputs, kernel size and stride\n",
    "    # Function Definition from Above:\n",
    "    x_tensor = x\n",
    "    conv_num_outputs = 10\n",
    "    \n",
    "    conv_ksize = (8, 8)\n",
    "    conv_strides = (1, 1)\n",
    "    \n",
    "    pool_ksize = (2, 2)\n",
    "    pool_strides = (2, 2)\n",
    "    \n",
    "    conv = conv2d_maxpool(x, conv_num_outputs, conv_ksize, conv_strides, pool_ksize, pool_strides)\n",
    "    \n",
    "    conv_ksize = (1, 1)\n",
    "    conv_strides = (2, 2)\n",
    "    \n",
    "    pool_ksize = (1, 1)\n",
    "    pool_strides = (1, 1)\n",
    "    conv = conv2d_maxpool(conv, conv_num_outputs, conv_ksize, conv_strides, pool_ksize, pool_strides)\n",
    "\n",
    "\n",
    "    # TODO: Apply a Flatten Layer\n",
    "    # Function Definition from Above:\n",
    "    conv = flatten(conv)\n",
    "    \n",
    "\n",
    "    # TODO: Apply 1, 2, or 3 Fully Connected Layers\n",
    "    #    Play around with different number of outputs\n",
    "    # Function Definition from Above:\n",
    "    conv = fully_conn(conv, 100)\n",
    "    conv = fully_conn(conv, 100)\n",
    "\n",
    "    conv = tf.nn.dropout(conv, keep_prob=keep_prob)\n",
    "    \n",
    "    # TODO: Apply an Output Layer\n",
    "    #    Set this to the number of classes\n",
    "    # Function Definition from Above:\n",
    "    conv = output(conv, 10)\n",
    "    \n",
    "    \n",
    "    # TODO: return output\n",
    "    return conv\n",
    "\n",
    "\n",
    "\"\"\"\n",
    "DON'T MODIFY ANYTHING IN THIS CELL THAT IS BELOW THIS LINE\n",
    "\"\"\"\n",
    "\n",
    "##############################\n",
    "## Build the Neural Network ##\n",
    "##############################\n",
    "\n",
    "# Remove previous weights, bias, inputs, etc..\n",
    "tf.reset_default_graph()\n",
    "\n",
    "# Inputs\n",
    "x = neural_net_image_input((32, 32, 3))\n",
    "y = neural_net_label_input(10)\n",
    "keep_prob = neural_net_keep_prob_input()\n",
    "\n",
    "# Model\n",
    "logits = conv_net(x, keep_prob)\n",
    "\n",
    "# Name logits Tensor, so that is can be loaded from disk after training\n",
    "logits = tf.identity(logits, name='logits')\n",
    "\n",
    "# Loss and Optimizer\n",
    "cost = tf.reduce_mean(tf.nn.softmax_cross_entropy_with_logits(logits=logits, labels=y))\n",
    "optimizer = tf.train.AdamOptimizer().minimize(cost)\n",
    "\n",
    "# Accuracy\n",
    "correct_pred = tf.equal(tf.argmax(logits, 1), tf.argmax(y, 1))\n",
    "accuracy = tf.reduce_mean(tf.cast(correct_pred, tf.float32), name='accuracy')\n",
    "\n",
    "tests.test_conv_net(conv_net)"
   ]
  },
  {
   "cell_type": "markdown",
   "metadata": {},
   "source": [
    "## Train the Neural Network\n",
    "### Single Optimization\n",
    "Implement the function `train_neural_network` to do a single optimization.  The optimization should use `optimizer` to optimize in `session` with a `feed_dict` of the following:\n",
    "* `x` for image input\n",
    "* `y` for labels\n",
    "* `keep_prob` for keep probability for dropout\n",
    "\n",
    "This function will be called for each batch, so `tf.global_variables_initializer()` has already been called.\n",
    "\n",
    "Note: Nothing needs to be returned. This function is only optimizing the neural network."
   ]
  },
  {
   "cell_type": "code",
   "execution_count": 14,
   "metadata": {
    "collapsed": false
   },
   "outputs": [
    {
     "name": "stdout",
     "output_type": "stream",
     "text": [
      "Tests Passed\n"
     ]
    }
   ],
   "source": [
    "def train_neural_network(sess, optimizer, keep_probability, feature_batch, label_batch):\n",
    "    \"\"\"\n",
    "    Optimize the session on a batch of images and labels\n",
    "    : session: Current TensorFlow session\n",
    "    : optimizer: TensorFlow optimizer function\n",
    "    : keep_probability: keep probability\n",
    "    : feature_batch: Batch of Numpy image data\n",
    "    : label_batch: Batch of Numpy label data\n",
    "    \"\"\"\n",
    "    # Training cycle\n",
    "    sess.run(optimizer, feed_dict={x: feature_batch, y: label_batch, keep_prob: keep_probability})\n",
    "    pass\n",
    "\n",
    "\n",
    "\"\"\"\n",
    "DON'T MODIFY ANYTHING IN THIS CELL THAT IS BELOW THIS LINE\n",
    "\"\"\"\n",
    "tests.test_train_nn(train_neural_network)"
   ]
  },
  {
   "cell_type": "markdown",
   "metadata": {},
   "source": [
    "### Show Stats\n",
    "Implement the function `print_stats` to print loss and validation accuracy.  Use the global variables `valid_features` and `valid_labels` to calculate validation accuracy.  Use a keep probability of `1.0` to calculate the loss and validation accuracy."
   ]
  },
  {
   "cell_type": "code",
   "execution_count": 15,
   "metadata": {
    "collapsed": true
   },
   "outputs": [],
   "source": [
    "def print_stats(session, feature_batch, label_batch, cost, accuracy):\n",
    "    \"\"\"\n",
    "    Print information about loss and validation accuracy\n",
    "    : session: Current TensorFlow session\n",
    "    : feature_batch: Batch of Numpy image data\n",
    "    : label_batch: Batch of Numpy label data\n",
    "    : cost: TensorFlow cost function\n",
    "    : accuracy: TensorFlow accuracy function\n",
    "    \"\"\"\n",
    "    feed_dict={x: feature_batch, y: label_batch, keep_prob: 1}\n",
    "    \n",
    "    valid_accuracy = sess.run( accuracy, feed_dict=feed_dict)\n",
    "    valid_cost = sess.run(cost, feed_dict=feed_dict)\n",
    "    print('Validation Accuracy: {}% -  Cost: {}'.format(round(valid_accuracy*100, 6), round(valid_cost, 6)))\n",
    "    pass"
   ]
  },
  {
   "cell_type": "markdown",
   "metadata": {},
   "source": [
    "### Hyperparameters\n",
    "Tune the following parameters:\n",
    "* Set `epochs` to the number of iterations until the network stops learning or start overfitting\n",
    "* Set `batch_size` to the highest number that your machine has memory for.  Most people set them to common sizes of memory:\n",
    " * 64\n",
    " * 128\n",
    " * 256\n",
    " * ...\n",
    "* Set `keep_probability` to the probability of keeping a node using dropout"
   ]
  },
  {
   "cell_type": "code",
   "execution_count": 16,
   "metadata": {
    "collapsed": false
   },
   "outputs": [],
   "source": [
    "# TODO: Tune Parameters\n",
    "epochs = 50\n",
    "batch_size = 100\n",
    "keep_probability = 0.75"
   ]
  },
  {
   "cell_type": "markdown",
   "metadata": {},
   "source": [
    "### Train on a Single CIFAR-10 Batch\n",
    "Instead of training the neural network on all the CIFAR-10 batches of data, let's use a single batch. This should save time while you iterate on the model to get a better accuracy.  Once the final validation accuracy is 50% or greater, run the model on all the data in the next section."
   ]
  },
  {
   "cell_type": "code",
   "execution_count": 17,
   "metadata": {
    "collapsed": false
   },
   "outputs": [
    {
     "name": "stdout",
     "output_type": "stream",
     "text": [
      "Checking the Training on a Single Batch...\n",
      "Epoch  1, CIFAR-10 Batch 1:  Validation Accuracy: 20.0% -  Cost: 2.367527961730957\n",
      "Epoch  2, CIFAR-10 Batch 1:  Validation Accuracy: 20.999999% -  Cost: 2.1997718811035156\n",
      "Epoch  3, CIFAR-10 Batch 1:  Validation Accuracy: 30.000001% -  Cost: 2.121541976928711\n",
      "Epoch  4, CIFAR-10 Batch 1:  Validation Accuracy: 25.999999% -  Cost: 2.0848770141601562\n",
      "Epoch  5, CIFAR-10 Batch 1:  Validation Accuracy: 31.0% -  Cost: 2.0039451122283936\n",
      "Epoch  6, CIFAR-10 Batch 1:  Validation Accuracy: 31.999999% -  Cost: 1.9720590114593506\n",
      "Epoch  7, CIFAR-10 Batch 1:  Validation Accuracy: 34.999999% -  Cost: 1.9174959659576416\n",
      "Epoch  8, CIFAR-10 Batch 1:  Validation Accuracy: 37.0% -  Cost: 1.8402270078659058\n",
      "Epoch  9, CIFAR-10 Batch 1:  Validation Accuracy: 41.0% -  Cost: 1.8013739585876465\n",
      "Epoch 10, CIFAR-10 Batch 1:  Validation Accuracy: 44.999999% -  Cost: 1.7295949459075928\n",
      "Epoch 11, CIFAR-10 Batch 1:  Validation Accuracy: 47.999999% -  Cost: 1.6347179412841797\n",
      "Epoch 12, CIFAR-10 Batch 1:  Validation Accuracy: 44.0% -  Cost: 1.614130973815918\n",
      "Epoch 13, CIFAR-10 Batch 1:  Validation Accuracy: 47.0% -  Cost: 1.5563520193099976\n",
      "Epoch 14, CIFAR-10 Batch 1:  Validation Accuracy: 47.0% -  Cost: 1.540779948234558\n",
      "Epoch 15, CIFAR-10 Batch 1:  Validation Accuracy: 50.999999% -  Cost: 1.5051889419555664\n",
      "Epoch 16, CIFAR-10 Batch 1:  Validation Accuracy: 47.999999% -  Cost: 1.4311250448226929\n",
      "Epoch 17, CIFAR-10 Batch 1:  Validation Accuracy: 49.000001% -  Cost: 1.4044970273971558\n",
      "Epoch 18, CIFAR-10 Batch 1:  Validation Accuracy: 50.999999% -  Cost: 1.342877984046936\n",
      "Epoch 19, CIFAR-10 Batch 1:  Validation Accuracy: 52.999997% -  Cost: 1.3447849750518799\n",
      "Epoch 20, CIFAR-10 Batch 1:  Validation Accuracy: 55.000001% -  Cost: 1.262632966041565\n",
      "Epoch 21, CIFAR-10 Batch 1:  Validation Accuracy: 61.000001% -  Cost: 1.2062499523162842\n",
      "Epoch 22, CIFAR-10 Batch 1:  Validation Accuracy: 63.0% -  Cost: 1.2110979557037354\n",
      "Epoch 23, CIFAR-10 Batch 1:  Validation Accuracy: 61.000001% -  Cost: 1.1466540098190308\n",
      "Epoch 24, CIFAR-10 Batch 1:  Validation Accuracy: 56.0% -  Cost: 1.1595929861068726\n",
      "Epoch 25, CIFAR-10 Batch 1:  Validation Accuracy: 61.000001% -  Cost: 1.1350079774856567\n",
      "Epoch 26, CIFAR-10 Batch 1:  Validation Accuracy: 60.000002% -  Cost: 1.0285789966583252\n",
      "Epoch 27, CIFAR-10 Batch 1:  Validation Accuracy: 66.000003% -  Cost: 0.9886289834976196\n",
      "Epoch 28, CIFAR-10 Batch 1:  Validation Accuracy: 63.0% -  Cost: 0.9820200204849243\n",
      "Epoch 29, CIFAR-10 Batch 1:  Validation Accuracy: 66.000003% -  Cost: 0.9647579789161682\n",
      "Epoch 30, CIFAR-10 Batch 1:  Validation Accuracy: 62.0% -  Cost: 0.9929320216178894\n",
      "Epoch 31, CIFAR-10 Batch 1:  Validation Accuracy: 63.0% -  Cost: 0.9762219786643982\n",
      "Epoch 32, CIFAR-10 Batch 1:  Validation Accuracy: 68.000001% -  Cost: 0.8790550231933594\n",
      "Epoch 33, CIFAR-10 Batch 1:  Validation Accuracy: 69.999999% -  Cost: 0.7815430164337158\n",
      "Epoch 34, CIFAR-10 Batch 1:  Validation Accuracy: 68.000001% -  Cost: 0.7586640119552612\n",
      "Epoch 35, CIFAR-10 Batch 1:  Validation Accuracy: 70.999998% -  Cost: 0.7520959973335266\n",
      "Epoch 36, CIFAR-10 Batch 1:  Validation Accuracy: 73.000002% -  Cost: 0.7007989883422852\n",
      "Epoch 37, CIFAR-10 Batch 1:  Validation Accuracy: 73.000002% -  Cost: 0.6993550062179565\n",
      "Epoch 38, CIFAR-10 Batch 1:  Validation Accuracy: 72.000003% -  Cost: 0.6877139806747437\n",
      "Epoch 39, CIFAR-10 Batch 1:  Validation Accuracy: 70.999998% -  Cost: 0.6725590229034424\n",
      "Epoch 40, CIFAR-10 Batch 1:  Validation Accuracy: 75.0% -  Cost: 0.653436005115509\n",
      "Epoch 41, CIFAR-10 Batch 1:  Validation Accuracy: 73.000002% -  Cost: 0.7244309782981873\n",
      "Epoch 42, CIFAR-10 Batch 1:  Validation Accuracy: 70.999998% -  Cost: 0.7690849900245667\n",
      "Epoch 43, CIFAR-10 Batch 1:  Validation Accuracy: 75.0% -  Cost: 0.6831799745559692\n",
      "Epoch 44, CIFAR-10 Batch 1:  Validation Accuracy: 79.000002% -  Cost: 0.588703989982605\n",
      "Epoch 45, CIFAR-10 Batch 1:  Validation Accuracy: 76.999998% -  Cost: 0.683480978012085\n",
      "Epoch 46, CIFAR-10 Batch 1:  Validation Accuracy: 77.999997% -  Cost: 0.649465024471283\n",
      "Epoch 47, CIFAR-10 Batch 1:  Validation Accuracy: 80.000001% -  Cost: 0.6045849919319153\n",
      "Epoch 48, CIFAR-10 Batch 1:  Validation Accuracy: 81.999999% -  Cost: 0.5653039813041687\n",
      "Epoch 49, CIFAR-10 Batch 1:  Validation Accuracy: 81.0% -  Cost: 0.5541110038757324\n",
      "Epoch 50, CIFAR-10 Batch 1:  Validation Accuracy: 79.000002% -  Cost: 0.6113790273666382\n"
     ]
    }
   ],
   "source": [
    "\"\"\"\n",
    "DON'T MODIFY ANYTHING IN THIS CELL\n",
    "\"\"\"\n",
    "print('Checking the Training on a Single Batch...')\n",
    "with tf.Session() as sess:\n",
    "    # Initializing the variables\n",
    "    sess.run(tf.global_variables_initializer())\n",
    "    \n",
    "    # Training cycle\n",
    "    for epoch in range(epochs):\n",
    "        batch_i = 1\n",
    "        for batch_features, batch_labels in helper.load_preprocess_training_batch(batch_i, batch_size):\n",
    "            train_neural_network(sess, optimizer, keep_probability, batch_features, batch_labels)\n",
    "        print('Epoch {:>2}, CIFAR-10 Batch {}:  '.format(epoch + 1, batch_i), end='')\n",
    "        print_stats(sess, batch_features, batch_labels, cost, accuracy)"
   ]
  },
  {
   "cell_type": "markdown",
   "metadata": {},
   "source": [
    "### Fully Train the Model\n",
    "Now that you got a good accuracy with a single CIFAR-10 batch, try it with all five batches."
   ]
  },
  {
   "cell_type": "code",
   "execution_count": 18,
   "metadata": {
    "collapsed": false
   },
   "outputs": [
    {
     "name": "stdout",
     "output_type": "stream",
     "text": [
      "Training...\n",
      "Epoch  1, CIFAR-10 Batch 1:  Validation Accuracy: 10.0% -  Cost: 2.276668071746826\n",
      "Epoch  1, CIFAR-10 Batch 2:  Validation Accuracy: 5.0% -  Cost: 2.315049886703491\n",
      "Epoch  1, CIFAR-10 Batch 3:  Validation Accuracy: 9.0% -  Cost: 2.291627883911133\n",
      "Epoch  1, CIFAR-10 Batch 4:  Validation Accuracy: 8.0% -  Cost: 2.2973339557647705\n",
      "Epoch  1, CIFAR-10 Batch 5:  Validation Accuracy: 11.0% -  Cost: 2.30281400680542\n",
      "Epoch  2, CIFAR-10 Batch 1:  Validation Accuracy: 10.0% -  Cost: 2.284390926361084\n",
      "Epoch  2, CIFAR-10 Batch 2:  Validation Accuracy: 7.0% -  Cost: 2.3002500534057617\n",
      "Epoch  2, CIFAR-10 Batch 3:  Validation Accuracy: 11.0% -  Cost: 2.260406017303467\n",
      "Epoch  2, CIFAR-10 Batch 4:  Validation Accuracy: 8.0% -  Cost: 2.3001790046691895\n",
      "Epoch  2, CIFAR-10 Batch 5:  Validation Accuracy: 11.0% -  Cost: 2.3026609420776367\n",
      "Epoch  3, CIFAR-10 Batch 1:  Validation Accuracy: 12.0% -  Cost: 2.2643749713897705\n",
      "Epoch  3, CIFAR-10 Batch 2:  Validation Accuracy: 6.0% -  Cost: 2.2909090518951416\n",
      "Epoch  3, CIFAR-10 Batch 3:  Validation Accuracy: 9.0% -  Cost: 2.2307379245758057\n",
      "Epoch  3, CIFAR-10 Batch 4:  Validation Accuracy: 9.0% -  Cost: 2.286932945251465\n",
      "Epoch  3, CIFAR-10 Batch 5:  Validation Accuracy: 8.0% -  Cost: 2.297947883605957\n",
      "Epoch  4, CIFAR-10 Batch 1:  Validation Accuracy: 6.0% -  Cost: 2.320557117462158\n",
      "Epoch  4, CIFAR-10 Batch 2:  Validation Accuracy: 8.0% -  Cost: 2.2972118854522705\n",
      "Epoch  4, CIFAR-10 Batch 3:  Validation Accuracy: 10.0% -  Cost: 2.2279279232025146\n",
      "Epoch  4, CIFAR-10 Batch 4:  Validation Accuracy: 9.0% -  Cost: 2.284799098968506\n",
      "Epoch  4, CIFAR-10 Batch 5:  Validation Accuracy: 8.0% -  Cost: 2.2984659671783447\n",
      "Epoch  5, CIFAR-10 Batch 1:  Validation Accuracy: 10.0% -  Cost: 2.2838780879974365\n",
      "Epoch  5, CIFAR-10 Batch 2:  Validation Accuracy: 12.0% -  Cost: 2.221471071243286\n",
      "Epoch  5, CIFAR-10 Batch 3:  Validation Accuracy: 19.0% -  Cost: 2.099785089492798\n",
      "Epoch  5, CIFAR-10 Batch 4:  Validation Accuracy: 18.000001% -  Cost: 2.104114055633545\n",
      "Epoch  5, CIFAR-10 Batch 5:  Validation Accuracy: 18.000001% -  Cost: 2.1270298957824707\n",
      "Epoch  6, CIFAR-10 Batch 1:  Validation Accuracy: 14.0% -  Cost: 2.2887279987335205\n",
      "Epoch  6, CIFAR-10 Batch 2:  Validation Accuracy: 18.000001% -  Cost: 2.063015937805176\n",
      "Epoch  6, CIFAR-10 Batch 3:  Validation Accuracy: 18.000001% -  Cost: 1.9681199789047241\n",
      "Epoch  6, CIFAR-10 Batch 4:  Validation Accuracy: 19.0% -  Cost: 1.9556419849395752\n",
      "Epoch  6, CIFAR-10 Batch 5:  Validation Accuracy: 17.0% -  Cost: 2.09991192817688\n",
      "Epoch  7, CIFAR-10 Batch 1:  Validation Accuracy: 17.0% -  Cost: 2.321216106414795\n",
      "Epoch  7, CIFAR-10 Batch 2:  Validation Accuracy: 25.999999% -  Cost: 1.905392050743103\n",
      "Epoch  7, CIFAR-10 Batch 3:  Validation Accuracy: 30.000001% -  Cost: 1.8105570077896118\n",
      "Epoch  7, CIFAR-10 Batch 4:  Validation Accuracy: 25.999999% -  Cost: 1.9352500438690186\n",
      "Epoch  7, CIFAR-10 Batch 5:  Validation Accuracy: 23.999999% -  Cost: 1.9028420448303223\n",
      "Epoch  8, CIFAR-10 Batch 1:  Validation Accuracy: 23.0% -  Cost: 2.130610942840576\n",
      "Epoch  8, CIFAR-10 Batch 2:  Validation Accuracy: 25.999999% -  Cost: 1.9108580350875854\n",
      "Epoch  8, CIFAR-10 Batch 3:  Validation Accuracy: 31.0% -  Cost: 1.8055360317230225\n",
      "Epoch  8, CIFAR-10 Batch 4:  Validation Accuracy: 27.000001% -  Cost: 1.8239920139312744\n",
      "Epoch  8, CIFAR-10 Batch 5:  Validation Accuracy: 28.0% -  Cost: 1.8305219411849976\n",
      "Epoch  9, CIFAR-10 Batch 1:  Validation Accuracy: 22.0% -  Cost: 2.2068541049957275\n",
      "Epoch  9, CIFAR-10 Batch 2:  Validation Accuracy: 31.0% -  Cost: 1.729522943496704\n",
      "Epoch  9, CIFAR-10 Batch 3:  Validation Accuracy: 34.0% -  Cost: 1.7551920413970947\n",
      "Epoch  9, CIFAR-10 Batch 4:  Validation Accuracy: 31.0% -  Cost: 1.7707569599151611\n",
      "Epoch  9, CIFAR-10 Batch 5:  Validation Accuracy: 28.999999% -  Cost: 1.8070729970932007\n",
      "Epoch 10, CIFAR-10 Batch 1:  Validation Accuracy: 23.0% -  Cost: 2.161463975906372\n",
      "Epoch 10, CIFAR-10 Batch 2:  Validation Accuracy: 28.999999% -  Cost: 1.7611579895019531\n",
      "Epoch 10, CIFAR-10 Batch 3:  Validation Accuracy: 40.000001% -  Cost: 1.6946309804916382\n",
      "Epoch 10, CIFAR-10 Batch 4:  Validation Accuracy: 33.000001% -  Cost: 1.7223819494247437\n",
      "Epoch 10, CIFAR-10 Batch 5:  Validation Accuracy: 31.0% -  Cost: 1.780089020729065\n",
      "Epoch 11, CIFAR-10 Batch 1:  Validation Accuracy: 23.0% -  Cost: 2.0507519245147705\n",
      "Epoch 11, CIFAR-10 Batch 2:  Validation Accuracy: 38.0% -  Cost: 1.7126309871673584\n",
      "Epoch 11, CIFAR-10 Batch 3:  Validation Accuracy: 31.999999% -  Cost: 1.6380480527877808\n",
      "Epoch 11, CIFAR-10 Batch 4:  Validation Accuracy: 34.999999% -  Cost: 1.735021948814392\n",
      "Epoch 11, CIFAR-10 Batch 5:  Validation Accuracy: 28.999999% -  Cost: 1.7674839496612549\n",
      "Epoch 12, CIFAR-10 Batch 1:  Validation Accuracy: 25.999999% -  Cost: 2.016226053237915\n",
      "Epoch 12, CIFAR-10 Batch 2:  Validation Accuracy: 31.999999% -  Cost: 1.6633130311965942\n",
      "Epoch 12, CIFAR-10 Batch 3:  Validation Accuracy: 41.999999% -  Cost: 1.5967119932174683\n",
      "Epoch 12, CIFAR-10 Batch 4:  Validation Accuracy: 37.0% -  Cost: 1.6799590587615967\n",
      "Epoch 12, CIFAR-10 Batch 5:  Validation Accuracy: 34.0% -  Cost: 1.712738037109375\n",
      "Epoch 13, CIFAR-10 Batch 1:  Validation Accuracy: 28.999999% -  Cost: 2.0113229751586914\n",
      "Epoch 13, CIFAR-10 Batch 2:  Validation Accuracy: 37.0% -  Cost: 1.670536994934082\n",
      "Epoch 13, CIFAR-10 Batch 3:  Validation Accuracy: 44.999999% -  Cost: 1.6610289812088013\n",
      "Epoch 13, CIFAR-10 Batch 4:  Validation Accuracy: 37.0% -  Cost: 1.6086759567260742\n",
      "Epoch 13, CIFAR-10 Batch 5:  Validation Accuracy: 36.000001% -  Cost: 1.6903760433197021\n",
      "Epoch 14, CIFAR-10 Batch 1:  Validation Accuracy: 28.999999% -  Cost: 1.9875190258026123\n",
      "Epoch 14, CIFAR-10 Batch 2:  Validation Accuracy: 37.0% -  Cost: 1.6447570323944092\n",
      "Epoch 14, CIFAR-10 Batch 3:  Validation Accuracy: 41.0% -  Cost: 1.6140309572219849\n",
      "Epoch 14, CIFAR-10 Batch 4:  Validation Accuracy: 38.0% -  Cost: 1.5972739458084106\n",
      "Epoch 14, CIFAR-10 Batch 5:  Validation Accuracy: 40.000001% -  Cost: 1.6646180152893066\n",
      "Epoch 15, CIFAR-10 Batch 1:  Validation Accuracy: 31.0% -  Cost: 1.991758942604065\n",
      "Epoch 15, CIFAR-10 Batch 2:  Validation Accuracy: 38.999999% -  Cost: 1.6006439924240112\n",
      "Epoch 15, CIFAR-10 Batch 3:  Validation Accuracy: 43.000001% -  Cost: 1.5426900386810303\n",
      "Epoch 15, CIFAR-10 Batch 4:  Validation Accuracy: 41.0% -  Cost: 1.570902943611145\n",
      "Epoch 15, CIFAR-10 Batch 5:  Validation Accuracy: 38.0% -  Cost: 1.6350460052490234\n",
      "Epoch 16, CIFAR-10 Batch 1:  Validation Accuracy: 38.999999% -  Cost: 1.8973939418792725\n",
      "Epoch 16, CIFAR-10 Batch 2:  Validation Accuracy: 44.0% -  Cost: 1.5523220300674438\n",
      "Epoch 16, CIFAR-10 Batch 3:  Validation Accuracy: 43.000001% -  Cost: 1.5232529640197754\n",
      "Epoch 16, CIFAR-10 Batch 4:  Validation Accuracy: 46.000001% -  Cost: 1.5198129415512085\n",
      "Epoch 16, CIFAR-10 Batch 5:  Validation Accuracy: 43.000001% -  Cost: 1.575137972831726\n",
      "Epoch 17, CIFAR-10 Batch 1:  Validation Accuracy: 34.999999% -  Cost: 1.874843955039978\n",
      "Epoch 17, CIFAR-10 Batch 2:  Validation Accuracy: 43.000001% -  Cost: 1.5194649696350098\n",
      "Epoch 17, CIFAR-10 Batch 3:  Validation Accuracy: 44.0% -  Cost: 1.5167980194091797\n",
      "Epoch 17, CIFAR-10 Batch 4:  Validation Accuracy: 47.0% -  Cost: 1.4482660293579102\n",
      "Epoch 17, CIFAR-10 Batch 5:  Validation Accuracy: 41.0% -  Cost: 1.556607961654663\n",
      "Epoch 18, CIFAR-10 Batch 1:  Validation Accuracy: 34.999999% -  Cost: 1.8401670455932617\n",
      "Epoch 18, CIFAR-10 Batch 2:  Validation Accuracy: 44.0% -  Cost: 1.4958089590072632\n",
      "Epoch 18, CIFAR-10 Batch 3:  Validation Accuracy: 47.999999% -  Cost: 1.452262043952942\n",
      "Epoch 18, CIFAR-10 Batch 4:  Validation Accuracy: 44.999999% -  Cost: 1.4752240180969238\n",
      "Epoch 18, CIFAR-10 Batch 5:  Validation Accuracy: 46.000001% -  Cost: 1.50832998752594\n",
      "Epoch 19, CIFAR-10 Batch 1:  Validation Accuracy: 34.0% -  Cost: 1.8273309469223022\n",
      "Epoch 19, CIFAR-10 Batch 2:  Validation Accuracy: 49.000001% -  Cost: 1.417565941810608\n",
      "Epoch 19, CIFAR-10 Batch 3:  Validation Accuracy: 51.999998% -  Cost: 1.3521720170974731\n",
      "Epoch 19, CIFAR-10 Batch 4:  Validation Accuracy: 46.000001% -  Cost: 1.4518369436264038\n",
      "Epoch 19, CIFAR-10 Batch 5:  Validation Accuracy: 47.999999% -  Cost: 1.4913530349731445\n",
      "Epoch 20, CIFAR-10 Batch 1:  Validation Accuracy: 40.000001% -  Cost: 1.775521993637085\n",
      "Epoch 20, CIFAR-10 Batch 2:  Validation Accuracy: 47.0% -  Cost: 1.4245820045471191\n",
      "Epoch 20, CIFAR-10 Batch 3:  Validation Accuracy: 51.999998% -  Cost: 1.3641040325164795\n",
      "Epoch 20, CIFAR-10 Batch 4:  Validation Accuracy: 43.000001% -  Cost: 1.4437199831008911\n",
      "Epoch 20, CIFAR-10 Batch 5:  Validation Accuracy: 46.000001% -  Cost: 1.41989004611969\n",
      "Epoch 21, CIFAR-10 Batch 1:  Validation Accuracy: 38.0% -  Cost: 1.7510679960250854\n",
      "Epoch 21, CIFAR-10 Batch 2:  Validation Accuracy: 47.999999% -  Cost: 1.3929719924926758\n",
      "Epoch 21, CIFAR-10 Batch 3:  Validation Accuracy: 54.000002% -  Cost: 1.3385519981384277\n",
      "Epoch 21, CIFAR-10 Batch 4:  Validation Accuracy: 46.000001% -  Cost: 1.4127329587936401\n",
      "Epoch 21, CIFAR-10 Batch 5:  Validation Accuracy: 50.0% -  Cost: 1.4374799728393555\n",
      "Epoch 22, CIFAR-10 Batch 1:  Validation Accuracy: 38.0% -  Cost: 1.7022969722747803\n",
      "Epoch 22, CIFAR-10 Batch 2:  Validation Accuracy: 50.0% -  Cost: 1.3849339485168457\n",
      "Epoch 22, CIFAR-10 Batch 3:  Validation Accuracy: 55.000001% -  Cost: 1.3040879964828491\n",
      "Epoch 22, CIFAR-10 Batch 4:  Validation Accuracy: 47.0% -  Cost: 1.3876559734344482\n",
      "Epoch 22, CIFAR-10 Batch 5:  Validation Accuracy: 47.999999% -  Cost: 1.4145699739456177\n",
      "Epoch 23, CIFAR-10 Batch 1:  Validation Accuracy: 37.0% -  Cost: 1.6899830102920532\n",
      "Epoch 23, CIFAR-10 Batch 2:  Validation Accuracy: 50.999999% -  Cost: 1.413185954093933\n",
      "Epoch 23, CIFAR-10 Batch 3:  Validation Accuracy: 51.999998% -  Cost: 1.279502034187317\n",
      "Epoch 23, CIFAR-10 Batch 4:  Validation Accuracy: 50.999999% -  Cost: 1.398648977279663\n",
      "Epoch 23, CIFAR-10 Batch 5:  Validation Accuracy: 55.000001% -  Cost: 1.3683079481124878\n",
      "Epoch 24, CIFAR-10 Batch 1:  Validation Accuracy: 38.0% -  Cost: 1.6716790199279785\n",
      "Epoch 24, CIFAR-10 Batch 2:  Validation Accuracy: 49.000001% -  Cost: 1.3696279525756836\n",
      "Epoch 24, CIFAR-10 Batch 3:  Validation Accuracy: 50.0% -  Cost: 1.2539540529251099\n",
      "Epoch 24, CIFAR-10 Batch 4:  Validation Accuracy: 52.999997% -  Cost: 1.3496969938278198\n",
      "Epoch 24, CIFAR-10 Batch 5:  Validation Accuracy: 57.999998% -  Cost: 1.3448599576950073\n",
      "Epoch 25, CIFAR-10 Batch 1:  Validation Accuracy: 41.0% -  Cost: 1.658668041229248\n",
      "Epoch 25, CIFAR-10 Batch 2:  Validation Accuracy: 50.0% -  Cost: 1.3414360284805298\n",
      "Epoch 25, CIFAR-10 Batch 3:  Validation Accuracy: 55.000001% -  Cost: 1.2629899978637695\n",
      "Epoch 25, CIFAR-10 Batch 4:  Validation Accuracy: 50.999999% -  Cost: 1.321964979171753\n",
      "Epoch 25, CIFAR-10 Batch 5:  Validation Accuracy: 52.999997% -  Cost: 1.341717004776001\n",
      "Epoch 26, CIFAR-10 Batch 1:  Validation Accuracy: 40.000001% -  Cost: 1.5893199443817139\n",
      "Epoch 26, CIFAR-10 Batch 2:  Validation Accuracy: 51.999998% -  Cost: 1.3208680152893066\n",
      "Epoch 26, CIFAR-10 Batch 3:  Validation Accuracy: 51.999998% -  Cost: 1.2495390176773071\n",
      "Epoch 26, CIFAR-10 Batch 4:  Validation Accuracy: 50.999999% -  Cost: 1.3316630125045776\n",
      "Epoch 26, CIFAR-10 Batch 5:  Validation Accuracy: 50.999999% -  Cost: 1.3222270011901855\n",
      "Epoch 27, CIFAR-10 Batch 1:  Validation Accuracy: 41.0% -  Cost: 1.6379339694976807\n",
      "Epoch 27, CIFAR-10 Batch 2:  Validation Accuracy: 50.0% -  Cost: 1.3156310319900513\n",
      "Epoch 27, CIFAR-10 Batch 3:  Validation Accuracy: 54.000002% -  Cost: 1.2174509763717651\n",
      "Epoch 27, CIFAR-10 Batch 4:  Validation Accuracy: 51.999998% -  Cost: 1.2854180335998535\n",
      "Epoch 27, CIFAR-10 Batch 5:  Validation Accuracy: 49.000001% -  Cost: 1.2945879697799683\n",
      "Epoch 28, CIFAR-10 Batch 1:  Validation Accuracy: 43.000001% -  Cost: 1.580049991607666\n",
      "Epoch 28, CIFAR-10 Batch 2:  Validation Accuracy: 47.999999% -  Cost: 1.313781976699829\n",
      "Epoch 28, CIFAR-10 Batch 3:  Validation Accuracy: 56.999999% -  Cost: 1.1946860551834106\n",
      "Epoch 28, CIFAR-10 Batch 4:  Validation Accuracy: 52.999997% -  Cost: 1.2975660562515259\n",
      "Epoch 28, CIFAR-10 Batch 5:  Validation Accuracy: 52.999997% -  Cost: 1.325773000717163\n",
      "Epoch 29, CIFAR-10 Batch 1:  Validation Accuracy: 41.999999% -  Cost: 1.5848749876022339\n",
      "Epoch 29, CIFAR-10 Batch 2:  Validation Accuracy: 55.000001% -  Cost: 1.2791049480438232\n",
      "Epoch 29, CIFAR-10 Batch 3:  Validation Accuracy: 52.999997% -  Cost: 1.2015119791030884\n",
      "Epoch 29, CIFAR-10 Batch 4:  Validation Accuracy: 50.0% -  Cost: 1.2840490341186523\n",
      "Epoch 29, CIFAR-10 Batch 5:  Validation Accuracy: 50.999999% -  Cost: 1.3124500513076782\n",
      "Epoch 30, CIFAR-10 Batch 1:  Validation Accuracy: 44.999999% -  Cost: 1.5656310319900513\n",
      "Epoch 30, CIFAR-10 Batch 2:  Validation Accuracy: 50.999999% -  Cost: 1.3016010522842407\n",
      "Epoch 30, CIFAR-10 Batch 3:  Validation Accuracy: 58.999997% -  Cost: 1.1444809436798096\n",
      "Epoch 30, CIFAR-10 Batch 4:  Validation Accuracy: 49.000001% -  Cost: 1.2626450061798096\n",
      "Epoch 30, CIFAR-10 Batch 5:  Validation Accuracy: 50.999999% -  Cost: 1.2692279815673828\n",
      "Epoch 31, CIFAR-10 Batch 1:  Validation Accuracy: 47.0% -  Cost: 1.5553369522094727\n",
      "Epoch 31, CIFAR-10 Batch 2:  Validation Accuracy: 56.0% -  Cost: 1.26459801197052\n",
      "Epoch 31, CIFAR-10 Batch 3:  Validation Accuracy: 56.999999% -  Cost: 1.1778000593185425\n",
      "Epoch 31, CIFAR-10 Batch 4:  Validation Accuracy: 50.0% -  Cost: 1.2353310585021973\n",
      "Epoch 31, CIFAR-10 Batch 5:  Validation Accuracy: 50.999999% -  Cost: 1.3021810054779053\n",
      "Epoch 32, CIFAR-10 Batch 1:  Validation Accuracy: 41.999999% -  Cost: 1.5306450128555298\n",
      "Epoch 32, CIFAR-10 Batch 2:  Validation Accuracy: 56.0% -  Cost: 1.2307300567626953\n",
      "Epoch 32, CIFAR-10 Batch 3:  Validation Accuracy: 57.999998% -  Cost: 1.2080179452896118\n",
      "Epoch 32, CIFAR-10 Batch 4:  Validation Accuracy: 54.000002% -  Cost: 1.2255159616470337\n",
      "Epoch 32, CIFAR-10 Batch 5:  Validation Accuracy: 54.000002% -  Cost: 1.237542986869812\n",
      "Epoch 33, CIFAR-10 Batch 1:  Validation Accuracy: 38.0% -  Cost: 1.5335789918899536\n",
      "Epoch 33, CIFAR-10 Batch 2:  Validation Accuracy: 56.0% -  Cost: 1.2427769899368286\n",
      "Epoch 33, CIFAR-10 Batch 3:  Validation Accuracy: 56.0% -  Cost: 1.1742520332336426\n",
      "Epoch 33, CIFAR-10 Batch 4:  Validation Accuracy: 52.999997% -  Cost: 1.267788052558899\n",
      "Epoch 33, CIFAR-10 Batch 5:  Validation Accuracy: 54.000002% -  Cost: 1.2081270217895508\n",
      "Epoch 34, CIFAR-10 Batch 1:  Validation Accuracy: 44.0% -  Cost: 1.5383720397949219\n",
      "Epoch 34, CIFAR-10 Batch 2:  Validation Accuracy: 51.999998% -  Cost: 1.267982006072998\n",
      "Epoch 34, CIFAR-10 Batch 3:  Validation Accuracy: 56.999999% -  Cost: 1.1858140230178833\n",
      "Epoch 34, CIFAR-10 Batch 4:  Validation Accuracy: 50.999999% -  Cost: 1.240507960319519\n",
      "Epoch 34, CIFAR-10 Batch 5:  Validation Accuracy: 55.000001% -  Cost: 1.2605170011520386\n",
      "Epoch 35, CIFAR-10 Batch 1:  Validation Accuracy: 47.999999% -  Cost: 1.5166699886322021\n",
      "Epoch 35, CIFAR-10 Batch 2:  Validation Accuracy: 51.999998% -  Cost: 1.2491960525512695\n",
      "Epoch 35, CIFAR-10 Batch 3:  Validation Accuracy: 61.000001% -  Cost: 1.1317299604415894\n",
      "Epoch 35, CIFAR-10 Batch 4:  Validation Accuracy: 50.0% -  Cost: 1.2272080183029175\n",
      "Epoch 35, CIFAR-10 Batch 5:  Validation Accuracy: 56.999999% -  Cost: 1.185610055923462\n",
      "Epoch 36, CIFAR-10 Batch 1:  Validation Accuracy: 47.999999% -  Cost: 1.4950250387191772\n",
      "Epoch 36, CIFAR-10 Batch 2:  Validation Accuracy: 56.999999% -  Cost: 1.2030220031738281\n",
      "Epoch 36, CIFAR-10 Batch 3:  Validation Accuracy: 60.000002% -  Cost: 1.1344900131225586\n",
      "Epoch 36, CIFAR-10 Batch 4:  Validation Accuracy: 54.000002% -  Cost: 1.2561390399932861\n",
      "Epoch 36, CIFAR-10 Batch 5:  Validation Accuracy: 57.999998% -  Cost: 1.1822210550308228\n",
      "Epoch 37, CIFAR-10 Batch 1:  Validation Accuracy: 50.0% -  Cost: 1.4620859622955322\n",
      "Epoch 37, CIFAR-10 Batch 2:  Validation Accuracy: 52.999997% -  Cost: 1.2384079694747925\n",
      "Epoch 37, CIFAR-10 Batch 3:  Validation Accuracy: 58.999997% -  Cost: 1.1308200359344482\n",
      "Epoch 37, CIFAR-10 Batch 4:  Validation Accuracy: 55.000001% -  Cost: 1.207334041595459\n",
      "Epoch 37, CIFAR-10 Batch 5:  Validation Accuracy: 58.999997% -  Cost: 1.1939189434051514\n",
      "Epoch 38, CIFAR-10 Batch 1:  Validation Accuracy: 49.000001% -  Cost: 1.449478030204773\n",
      "Epoch 38, CIFAR-10 Batch 2:  Validation Accuracy: 60.000002% -  Cost: 1.2020800113677979\n",
      "Epoch 38, CIFAR-10 Batch 3:  Validation Accuracy: 58.999997% -  Cost: 1.087654948234558\n",
      "Epoch 38, CIFAR-10 Batch 4:  Validation Accuracy: 54.000002% -  Cost: 1.2186410427093506\n",
      "Epoch 38, CIFAR-10 Batch 5:  Validation Accuracy: 57.999998% -  Cost: 1.193634033203125\n",
      "Epoch 39, CIFAR-10 Batch 1:  Validation Accuracy: 47.999999% -  Cost: 1.4089210033416748\n",
      "Epoch 39, CIFAR-10 Batch 2:  Validation Accuracy: 56.999999% -  Cost: 1.1620630025863647\n",
      "Epoch 39, CIFAR-10 Batch 3:  Validation Accuracy: 63.0% -  Cost: 1.0605599880218506\n",
      "Epoch 39, CIFAR-10 Batch 4:  Validation Accuracy: 55.000001% -  Cost: 1.2160240411758423\n",
      "Epoch 39, CIFAR-10 Batch 5:  Validation Accuracy: 60.000002% -  Cost: 1.2187819480895996\n",
      "Epoch 40, CIFAR-10 Batch 1:  Validation Accuracy: 50.0% -  Cost: 1.4330559968948364\n",
      "Epoch 40, CIFAR-10 Batch 2:  Validation Accuracy: 56.999999% -  Cost: 1.1528170108795166\n",
      "Epoch 40, CIFAR-10 Batch 3:  Validation Accuracy: 60.000002% -  Cost: 1.1196709871292114\n",
      "Epoch 40, CIFAR-10 Batch 4:  Validation Accuracy: 52.999997% -  Cost: 1.2027610540390015\n",
      "Epoch 40, CIFAR-10 Batch 5:  Validation Accuracy: 58.999997% -  Cost: 1.1733239889144897\n",
      "Epoch 41, CIFAR-10 Batch 1:  Validation Accuracy: 49.000001% -  Cost: 1.4252630472183228\n",
      "Epoch 41, CIFAR-10 Batch 2:  Validation Accuracy: 55.000001% -  Cost: 1.1557470560073853\n",
      "Epoch 41, CIFAR-10 Batch 3:  Validation Accuracy: 63.0% -  Cost: 1.0741809606552124\n",
      "Epoch 41, CIFAR-10 Batch 4:  Validation Accuracy: 52.999997% -  Cost: 1.1801329851150513\n",
      "Epoch 41, CIFAR-10 Batch 5:  Validation Accuracy: 57.999998% -  Cost: 1.1846599578857422\n",
      "Epoch 42, CIFAR-10 Batch 1:  Validation Accuracy: 47.999999% -  Cost: 1.3965710401535034\n",
      "Epoch 42, CIFAR-10 Batch 2:  Validation Accuracy: 55.000001% -  Cost: 1.1256799697875977\n",
      "Epoch 42, CIFAR-10 Batch 3:  Validation Accuracy: 66.000003% -  Cost: 1.0613059997558594\n",
      "Epoch 42, CIFAR-10 Batch 4:  Validation Accuracy: 52.999997% -  Cost: 1.1720349788665771\n",
      "Epoch 42, CIFAR-10 Batch 5:  Validation Accuracy: 56.0% -  Cost: 1.1130510568618774\n",
      "Epoch 43, CIFAR-10 Batch 1:  Validation Accuracy: 47.999999% -  Cost: 1.4406520128250122\n",
      "Epoch 43, CIFAR-10 Batch 2:  Validation Accuracy: 56.999999% -  Cost: 1.1294670104980469\n",
      "Epoch 43, CIFAR-10 Batch 3:  Validation Accuracy: 64.999998% -  Cost: 1.0438690185546875\n",
      "Epoch 43, CIFAR-10 Batch 4:  Validation Accuracy: 54.000002% -  Cost: 1.1881259679794312\n",
      "Epoch 43, CIFAR-10 Batch 5:  Validation Accuracy: 57.999998% -  Cost: 1.1644920110702515\n",
      "Epoch 44, CIFAR-10 Batch 1:  Validation Accuracy: 50.0% -  Cost: 1.4363420009613037\n",
      "Epoch 44, CIFAR-10 Batch 2:  Validation Accuracy: 56.999999% -  Cost: 1.1255760192871094\n",
      "Epoch 44, CIFAR-10 Batch 3:  Validation Accuracy: 63.0% -  Cost: 1.0789589881896973\n",
      "Epoch 44, CIFAR-10 Batch 4:  Validation Accuracy: 52.999997% -  Cost: 1.1817020177841187\n",
      "Epoch 44, CIFAR-10 Batch 5:  Validation Accuracy: 58.999997% -  Cost: 1.1074390411376953\n",
      "Epoch 45, CIFAR-10 Batch 1:  Validation Accuracy: 50.999999% -  Cost: 1.3694440126419067\n",
      "Epoch 45, CIFAR-10 Batch 2:  Validation Accuracy: 62.0% -  Cost: 1.11257803440094\n",
      "Epoch 45, CIFAR-10 Batch 3:  Validation Accuracy: 64.999998% -  Cost: 1.0388070344924927\n",
      "Epoch 45, CIFAR-10 Batch 4:  Validation Accuracy: 52.999997% -  Cost: 1.1534899473190308\n",
      "Epoch 45, CIFAR-10 Batch 5:  Validation Accuracy: 61.000001% -  Cost: 1.1176819801330566\n",
      "Epoch 46, CIFAR-10 Batch 1:  Validation Accuracy: 47.0% -  Cost: 1.3795700073242188\n",
      "Epoch 46, CIFAR-10 Batch 2:  Validation Accuracy: 57.999998% -  Cost: 1.08725905418396\n",
      "Epoch 46, CIFAR-10 Batch 3:  Validation Accuracy: 67.000002% -  Cost: 1.0444660186767578\n",
      "Epoch 46, CIFAR-10 Batch 4:  Validation Accuracy: 58.999997% -  Cost: 1.1422810554504395\n",
      "Epoch 46, CIFAR-10 Batch 5:  Validation Accuracy: 54.000002% -  Cost: 1.1391539573669434\n",
      "Epoch 47, CIFAR-10 Batch 1:  Validation Accuracy: 51.999998% -  Cost: 1.3678120374679565\n",
      "Epoch 47, CIFAR-10 Batch 2:  Validation Accuracy: 58.999997% -  Cost: 1.1135590076446533\n",
      "Epoch 47, CIFAR-10 Batch 3:  Validation Accuracy: 63.999999% -  Cost: 1.0734460353851318\n",
      "Epoch 47, CIFAR-10 Batch 4:  Validation Accuracy: 57.999998% -  Cost: 1.126291036605835\n",
      "Epoch 47, CIFAR-10 Batch 5:  Validation Accuracy: 58.999997% -  Cost: 1.134202003479004\n",
      "Epoch 48, CIFAR-10 Batch 1:  Validation Accuracy: 52.999997% -  Cost: 1.4168659448623657\n",
      "Epoch 48, CIFAR-10 Batch 2:  Validation Accuracy: 64.999998% -  Cost: 1.0791740417480469\n",
      "Epoch 48, CIFAR-10 Batch 3:  Validation Accuracy: 66.000003% -  Cost: 1.0696879625320435\n",
      "Epoch 48, CIFAR-10 Batch 4:  Validation Accuracy: 51.999998% -  Cost: 1.110098958015442\n",
      "Epoch 48, CIFAR-10 Batch 5:  Validation Accuracy: 56.999999% -  Cost: 1.087048053741455\n",
      "Epoch 49, CIFAR-10 Batch 1:  Validation Accuracy: 52.999997% -  Cost: 1.3432830572128296\n",
      "Epoch 49, CIFAR-10 Batch 2:  Validation Accuracy: 56.999999% -  Cost: 1.1117889881134033\n",
      "Epoch 49, CIFAR-10 Batch 3:  Validation Accuracy: 66.000003% -  Cost: 1.0443480014801025\n",
      "Epoch 49, CIFAR-10 Batch 4:  Validation Accuracy: 57.999998% -  Cost: 1.1213669776916504\n",
      "Epoch 49, CIFAR-10 Batch 5:  Validation Accuracy: 57.999998% -  Cost: 1.1491910219192505\n",
      "Epoch 50, CIFAR-10 Batch 1:  Validation Accuracy: 51.999998% -  Cost: 1.380607008934021\n",
      "Epoch 50, CIFAR-10 Batch 2:  Validation Accuracy: 56.999999% -  Cost: 1.0990350246429443\n",
      "Epoch 50, CIFAR-10 Batch 3:  Validation Accuracy: 66.000003% -  Cost: 1.043442964553833\n",
      "Epoch 50, CIFAR-10 Batch 4:  Validation Accuracy: 56.999999% -  Cost: 1.1366369724273682\n",
      "Epoch 50, CIFAR-10 Batch 5:  Validation Accuracy: 57.999998% -  Cost: 1.1365230083465576\n"
     ]
    }
   ],
   "source": [
    "\"\"\"\n",
    "DON'T MODIFY ANYTHING IN THIS CELL\n",
    "\"\"\"\n",
    "save_model_path = './image_classification'\n",
    "\n",
    "print('Training...')\n",
    "with tf.Session() as sess:\n",
    "    # Initializing the variables\n",
    "    sess.run(tf.global_variables_initializer())\n",
    "    \n",
    "    # Training cycle\n",
    "    for epoch in range(epochs):\n",
    "        # Loop over all batches\n",
    "        n_batches = 5\n",
    "        for batch_i in range(1, n_batches + 1):\n",
    "            for batch_features, batch_labels in helper.load_preprocess_training_batch(batch_i, batch_size):\n",
    "                train_neural_network(sess, optimizer, keep_probability, batch_features, batch_labels)\n",
    "            print('Epoch {:>2}, CIFAR-10 Batch {}:  '.format(epoch + 1, batch_i), end='')\n",
    "            print_stats(sess, batch_features, batch_labels, cost, accuracy)\n",
    "            \n",
    "    # Save Model\n",
    "    saver = tf.train.Saver()\n",
    "    save_path = saver.save(sess, save_model_path)"
   ]
  },
  {
   "cell_type": "markdown",
   "metadata": {},
   "source": [
    "# Checkpoint\n",
    "The model has been saved to disk.\n",
    "## Test Model\n",
    "Test your model against the test dataset.  This will be your final accuracy. You should have an accuracy greater than 50%. If you don't, keep tweaking the model architecture and parameters."
   ]
  },
  {
   "cell_type": "code",
   "execution_count": 19,
   "metadata": {
    "collapsed": false
   },
   "outputs": [
    {
     "name": "stdout",
     "output_type": "stream",
     "text": [
      "Testing Accuracy: 0.513299994468689\n",
      "\n"
     ]
    },
    {
     "data": {
      "image/png": "[encoded data removed]",
      "text/plain": [
       "<matplotlib.figure.Figure at 0x11ce890f0>"
      ]
     },
     "metadata": {
      "image/png": {
       "height": 319,
       "width": 355
      }
     },
     "output_type": "display_data"
    }
   ],
   "source": [
    "\"\"\"\n",
    "DON'T MODIFY ANYTHING IN THIS CELL\n",
    "\"\"\"\n",
    "%matplotlib inline\n",
    "%config InlineBackend.figure_format = 'retina'\n",
    "\n",
    "import tensorflow as tf\n",
    "import pickle\n",
    "import helper\n",
    "import random\n",
    "\n",
    "# Set batch size if not already set\n",
    "try:\n",
    "    if batch_size:\n",
    "        pass\n",
    "except NameError:\n",
    "    batch_size = 64\n",
    "\n",
    "save_model_path = './image_classification'\n",
    "n_samples = 4\n",
    "top_n_predictions = 3\n",
    "\n",
    "def test_model():\n",
    "    \"\"\"\n",
    "    Test the saved model against the test dataset\n",
    "    \"\"\"\n",
    "\n",
    "    test_features, test_labels = pickle.load(open('preprocess_training.p', mode='rb'))\n",
    "    loaded_graph = tf.Graph()\n",
    "\n",
    "    with tf.Session(graph=loaded_graph) as sess:\n",
    "        # Load model\n",
    "        loader = tf.train.import_meta_graph(save_model_path + '.meta')\n",
    "        loader.restore(sess, save_model_path)\n",
    "\n",
    "        # Get Tensors from loaded model\n",
    "        loaded_x = loaded_graph.get_tensor_by_name('x:0')\n",
    "        loaded_y = loaded_graph.get_tensor_by_name('y:0')\n",
    "        loaded_keep_prob = loaded_graph.get_tensor_by_name('keep_prob:0')\n",
    "        loaded_logits = loaded_graph.get_tensor_by_name('logits:0')\n",
    "        loaded_acc = loaded_graph.get_tensor_by_name('accuracy:0')\n",
    "        \n",
    "        # Get accuracy in batches for memory limitations\n",
    "        test_batch_acc_total = 0\n",
    "        test_batch_count = 0\n",
    "        \n",
    "        for train_feature_batch, train_label_batch in helper.batch_features_labels(test_features, test_labels, batch_size):\n",
    "            test_batch_acc_total += sess.run(\n",
    "                loaded_acc,\n",
    "                feed_dict={loaded_x: train_feature_batch, loaded_y: train_label_batch, loaded_keep_prob: 1.0})\n",
    "            test_batch_count += 1\n",
    "\n",
    "        print('Testing Accuracy: {}\\n'.format(test_batch_acc_total/test_batch_count))\n",
    "\n",
    "        # Print Random Samples\n",
    "        random_test_features, random_test_labels = tuple(zip(*random.sample(list(zip(test_features, test_labels)), n_samples)))\n",
    "        random_test_predictions = sess.run(\n",
    "            tf.nn.top_k(tf.nn.softmax(loaded_logits), top_n_predictions),\n",
    "            feed_dict={loaded_x: random_test_features, loaded_y: random_test_labels, loaded_keep_prob: 1.0})\n",
    "        helper.display_image_predictions(random_test_features, random_test_labels, random_test_predictions)\n",
    "\n",
    "\n",
    "test_model()"
   ]
  },
  {
   "cell_type": "markdown",
   "metadata": {},
   "source": [
    "## Why 50-70% Accuracy?\n",
    "You might be wondering why you can't get an accuracy any higher. First things first, 50% isn't bad for a simple CNN.  Pure guessing would get you 10% accuracy. However, you might notice people are getting scores [well above 70%](http://rodrigob.github.io/are_we_there_yet/build/classification_datasets_results.html#43494641522d3130).  That's because we haven't taught you all there is to know about neural networks. We still need to cover a few more techniques.\n",
    "## Submitting This Project\n",
    "When submitting this project, make sure to run all the cells before saving the notebook.  Save the notebook file as \"dlnd_image_classification.ipynb\" and save it as a HTML file under \"File\" -> \"Download as\".  Include the \"helper.py\" and \"problem_unittests.py\" files in your submission."
   ]
  }
 ],
 "metadata": {
  "kernelspec": {
   "display_name": "Python 3",
   "language": "python",
   "name": "python3"
  },
  "language_info": {
   "codemirror_mode": {
    "name": "ipython",
    "version": 3
   },
   "file_extension": ".py",
   "mimetype": "text/x-python",
   "name": "python",
   "nbconvert_exporter": "python",
   "pygments_lexer": "ipython3",
   "version": "3.6.0"
  }
 },
 "nbformat": 4,
 "nbformat_minor": 0
}
